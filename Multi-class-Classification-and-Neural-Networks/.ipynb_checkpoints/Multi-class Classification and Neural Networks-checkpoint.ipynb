{
 "cells": [
  {
   "cell_type": "code",
   "execution_count": 1,
   "metadata": {},
   "outputs": [],
   "source": [
    "import os\n",
    "import numpy as np\n",
    "from matplotlib import pyplot\n",
    "from scipy import optimize\n",
    "# will be used to load MATLAB mat datafile format\n",
    "from scipy.io import loadmat"
   ]
  },
  {
   "cell_type": "markdown",
   "metadata": {},
   "source": [
    "# Multi-class Classification\n"
   ]
  },
  {
   "cell_type": "markdown",
   "metadata": {},
   "source": [
    "### 0. training data"
   ]
  },
  {
   "cell_type": "code",
   "execution_count": 2,
   "metadata": {},
   "outputs": [],
   "source": [
    "# contains 5000 training examples of handwritten digits\n",
    "# (This is a subset of the MNIST handwritten digit dataset). \n",
    "# where each training example is a 20 pixel by 20 pixel grayscale image of the digit.\n",
    "# The 20 by 20 grid of pixels is “unrolled” into a 400-dimensional vector. \n",
    "# Each of these training examples becomes a single row in our data matrix X. This gives us a 5000 by 400 matrix X\n",
    "# where every row is a training example for a handwritten digit image."
   ]
  },
  {
   "cell_type": "code",
   "execution_count": 3,
   "metadata": {},
   "outputs": [
    {
     "name": "stdout",
     "output_type": "stream",
     "text": [
      "{'y': array([[10],\n",
      "       [10],\n",
      "       [10],\n",
      "       ...,\n",
      "       [ 9],\n",
      "       [ 9],\n",
      "       [ 9]], dtype=uint8), 'X': array([[0., 0., 0., ..., 0., 0., 0.],\n",
      "       [0., 0., 0., ..., 0., 0., 0.],\n",
      "       [0., 0., 0., ..., 0., 0., 0.],\n",
      "       ...,\n",
      "       [0., 0., 0., ..., 0., 0., 0.],\n",
      "       [0., 0., 0., ..., 0., 0., 0.],\n",
      "       [0., 0., 0., ..., 0., 0., 0.]]), '__version__': '1.0', '__header__': 'MATLAB 5.0 MAT-file, Platform: GLNXA64, Created on: Sun Oct 16 13:09:09 2011', '__globals__': []}\n",
      "(5000, 400)\n",
      "(5000, 1)\n"
     ]
    }
   ],
   "source": [
    "# 20x20 Input Images of Digits\n",
    "input_layer_size  = 400\n",
    "\n",
    "# 10 labels, from 1 to 10 (note that we have mapped \"0\" to label 10)\n",
    "num_labels = 10\n",
    "#  training data stored in arrays X, y\n",
    "data = loadmat(os.path.join('ex3data1.mat'))\n",
    "print(data)\n",
    "X = data['X']\n",
    "y = data['y']\n",
    "y[y == 10] = 0 # because of matfile\n",
    "m = y.size\n",
    "print(X.shape)\n",
    "print(y.shape)"
   ]
  },
  {
   "cell_type": "markdown",
   "metadata": {},
   "source": [
    "### 1. visualize the data"
   ]
  },
  {
   "cell_type": "code",
   "execution_count": 4,
   "metadata": {},
   "outputs": [
    {
     "name": "stdout",
     "output_type": "stream",
     "text": [
      "[2432 4130  288 1612 2312 4547 1867 4324 1102 3534 4297 3931 4632 1784\n",
      " 1821 4627 1225  993  130 4470]\n"
     ]
    },
    {
     "data": {
      "image/png": "[encoded data removed]",
      "text/plain": [
       "<Figure size 432x288 with 1 Axes>"
      ]
     },
     "metadata": {
      "needs_background": "light"
     },
     "output_type": "display_data"
    }
   ],
   "source": [
    "sample = np.random.choice(X.shape[0], 20) # randomly select some examples\n",
    "pyplot.imshow(X[sample,1:].reshape(-1,20).T)\n",
    "pyplot.axis('off')\n",
    "print sample"
   ]
  },
  {
   "cell_type": "markdown",
   "metadata": {},
   "source": [
    "### 2. vectorizing Logistic Regression\n"
   ]
  },
  {
   "cell_type": "code",
   "execution_count": 5,
   "metadata": {},
   "outputs": [],
   "source": [
    "# You will be using multiple one-vs-all logistic regression models to build a multi-class classifier. \n",
    "# Since there are 10 classes, you will need to train 10 separate logistic regression classifiers. \n",
    "# so you should vectorize the cost function"
   ]
  },
  {
   "cell_type": "code",
   "execution_count": 6,
   "metadata": {},
   "outputs": [],
   "source": [
    "\n",
    "def sigmoid(z):\n",
    "    return(1 / (1 + np.exp(-z)))\n"
   ]
  },
  {
   "cell_type": "code",
   "execution_count": 7,
   "metadata": {},
   "outputs": [],
   "source": [
    "import scipy\n",
    "lam = 1\n",
    "data_dict = scipy.io.loadmat('ex3data1.mat')\n",
    "X = data_dict['X']\n",
    "y = data_dict['y'].ravel()\n",
    "M = X.shape[0]\n",
    "N = X.shape[1]\n",
    "num_labels = len(np.unique(y)) # = 10\n",
    "\n",
    "X = np.hstack((np.ones((M, 1)), X))\n",
    "sigmoid = lambda x: 1 / (1 + np.exp(-x))\n",
    "theta_0 = np.zeros(N + 1)"
   ]
  },
  {
   "cell_type": "markdown",
   "metadata": {},
   "source": [
    "### 3. one-vs-all classification"
   ]
  },
  {
   "cell_type": "code",
   "execution_count": 9,
   "metadata": {},
   "outputs": [],
   "source": [
    "\n",
    "cost_history = [] # Use this array to log costs calculated in the call to scipy's \"minimize\" below.\n",
    "\n",
    "def cost_function(theta, X, y, M, lam):\n",
    " \n",
    "    global cost_history\n",
    "    \n",
    "    cost = 1 / M * (- y.dot(np.log(sigmoid(theta.dot(X.T)))) - (1 - y).dot(np.log(1 - sigmoid(theta.dot(X.T))))) \\\n",
    "        + lam / 2 / M * np.sum(theta[1:]**2)\n",
    "    grad = 1 / M * (sigmoid(theta.dot(X.T)) - y).dot(X) + lam / M * np.hstack(([0], theta[1:]))\n",
    "    \n",
    "    cost_history.append(cost)\n",
    "    return cost, grad"
   ]
  },
  {
   "cell_type": "code",
   "execution_count": 10,
   "metadata": {},
   "outputs": [],
   "source": [
    "def oneVsAll(theta_0, X, y, M, num_labels, lam):\n",
    "    \"\"\"Python version of oneVsAll.m.\"\"\"\n",
    "    all_theta = np.zeros((num_labels, N + 1))\n",
    "    for i in xrange(1, num_labels + 1): # note that 0s are labeled with a y-value of 10 in this dataset.\n",
    "        y_i_hot = (y == i).astype(np.float64)\n",
    "        cost_history = [] # reset cost_history for each call to cost_function (even though cost_history not used here)\n",
    "        res = optimize.minimize(cost_function, theta_0, method='L-BFGS-B', args=(X, y_i_hot, M,lam), jac=True) \n",
    "        all_theta[i - 1] = res['x']\n",
    "    return all_theta"
   ]
  },
  {
   "cell_type": "code",
   "execution_count": 11,
   "metadata": {},
   "outputs": [
    {
     "name": "stdout",
     "output_type": "stream",
     "text": [
      "Cost at initial theta (zeros): 0.000\n"
     ]
    }
   ],
   "source": [
    "cost_0, _ = cost_function(theta_0, X, y, M, lam)\n",
    "print 'Cost at initial theta (zeros): %.3f' % cost_0"
   ]
  },
  {
   "cell_type": "code",
   "execution_count": 16,
   "metadata": {},
   "outputs": [
    {
     "data": {
      "text/plain": [
       "(10, 401)"
      ]
     },
     "execution_count": 16,
     "metadata": {},
     "output_type": "execute_result"
    }
   ],
   "source": [
    "\n",
    "all_theta = oneVsAll(theta_0, X, y, M, num_labels, lam)\n",
    "all_theta.shape # number of classses = 10"
   ]
  },
  {
   "cell_type": "markdown",
   "metadata": {},
   "source": [
    "### 4. one-vs-all prediction"
   ]
  },
  {
   "cell_type": "code",
   "execution_count": 13,
   "metadata": {},
   "outputs": [],
   "source": [
    "def predict_one_vs_all(all_theta,X):\n",
    "    z = np.dot(X,all_theta.T)\n",
    "    prob = sigmoid(z)\n",
    "    \n",
    "    # Adding one because Python uses zero based indexing for the 10 columns (0-9),\n",
    "    # while the 10 classes are numbered from 1 to 10.\n",
    "    return (np.argmax(prob, axis=1)+1)"
   ]
  },
  {
   "cell_type": "code",
   "execution_count": 14,
   "metadata": {},
   "outputs": [],
   "source": [
    "prediction = predict_one_vs_all(all_theta,X)"
   ]
  },
  {
   "cell_type": "code",
   "execution_count": 21,
   "metadata": {},
   "outputs": [
    {
     "name": "stdout",
     "output_type": "stream",
     "text": [
      "training accuracy: 10.0%\n"
     ]
    }
   ],
   "source": [
    "print('training accuracy: {}%'.format(np.mean(prediction == y.ravel())*100))\n"
   ]
  },
  {
   "cell_type": "markdown",
   "metadata": {},
   "source": [
    "# Neural Networks"
   ]
  },
  {
   "cell_type": "markdown",
   "metadata": {},
   "source": [
    "### call data"
   ]
  },
  {
   "cell_type": "code",
   "execution_count": 42,
   "metadata": {},
   "outputs": [
    {
     "name": "stdout",
     "output_type": "stream",
     "text": [
      "(5000, 400)\n",
      "(5000,)\n"
     ]
    }
   ],
   "source": [
    "#training data stored in arrays X, y\n",
    "data = loadmat(os.path.join('ex3data1.mat'))\n",
    "X, y = data['X'], data['y'].ravel()\n",
    "\n",
    "# set the zero digit to 0, rather than its mapped 10 in this dataset\n",
    "# This is an artifact due to the fact that this dataset was used in \n",
    "# MATLAB where there is no index 0\n",
    "y[y == 10] = 0\n",
    "\n",
    "# get number of examples in dataset\n",
    "m = y.size\n",
    "\n",
    "# randomly permute examples, to be used for visualizing one \n",
    "# picture at a time\n",
    "indices = np.random.permutation(m)\n",
    "\n",
    "# Randomly select 100 data points to display\n",
    "rand_indices = np.random.choice(m, 100, replace=False)\n",
    "sel = X[rand_indices, :]\n",
    "print(X.shape)\n",
    "print(y.shape)"
   ]
  },
  {
   "cell_type": "code",
   "execution_count": 43,
   "metadata": {},
   "outputs": [
    {
     "data": {
      "text/plain": [
       "400"
      ]
     },
     "execution_count": 43,
     "metadata": {},
     "output_type": "execute_result"
    }
   ],
   "source": [
    "# Setup the parameters you will use for this exercise\n",
    "input_layer_size  = 400  # 20x20 Input Images of Digits\n",
    "hidden_layer_size = 25   # 25 hidden units\n",
    "num_labels = len(np.unique(y))          # 10 labels, from 0 to 9\n",
    "\n",
    "# Load the .mat file, which returns a dictionary \n",
    "weights = loadmat(os.path.join('ex3weights.mat'))\n",
    "Theta1 = weights['Theta1']\n",
    "Theta2 = weights['Theta2']\n",
    "m,n = X.shape\n",
    "n"
   ]
  },
  {
   "cell_type": "markdown",
   "metadata": {},
   "source": [
    "### Feedforward Propagation and Prediction"
   ]
  },
  {
   "cell_type": "code",
   "execution_count": 44,
   "metadata": {},
   "outputs": [
    {
     "data": {
      "text/plain": [
       "(25, 401)"
      ]
     },
     "execution_count": 44,
     "metadata": {},
     "output_type": "execute_result"
    }
   ],
   "source": [
    "# 25 units in the second layer and 10 output units (corresponding to the 10 digit classes)\n",
    "# (2nd hidden layer size x input size)\n",
    "\n",
    "Theta1.shape  "
   ]
  },
  {
   "cell_type": "code",
   "execution_count": 45,
   "metadata": {},
   "outputs": [
    {
     "data": {
      "text/plain": [
       "(10, 26)"
      ]
     },
     "execution_count": 45,
     "metadata": {},
     "output_type": "execute_result"
    }
   ],
   "source": [
    "\n",
    "# (output layer size x 2nd hidden layer size)  \n",
    "# last theta size (k, n+1)\n",
    "\n",
    "Theta2.shape "
   ]
  },
  {
   "cell_type": "code",
   "execution_count": 46,
   "metadata": {},
   "outputs": [],
   "source": [
    "def sigmoid(z):\n",
    "    return(1 / (1 + np.exp(-z)))"
   ]
  },
  {
   "cell_type": "code",
   "execution_count": 70,
   "metadata": {},
   "outputs": [],
   "source": [
    "def predict(Theta1,Theta2, X):\n",
    "    z_2 = Theta1[:,0:n].dot(X.T)\n",
    "    a_2 = sigmoid(z_2)\n",
    "    a_2 = np.vstack((np.ones(m), a_2))\n",
    "    z_3 = np.dot(Theta2,a_2)\n",
    "    a_3 = sigmoid(z_3)\n",
    "        \n",
    "    return(np.argmax(a_3, axis=1)+1)\n",
    "pred = predict(Theta1,Theta2, X)"
   ]
  },
  {
   "cell_type": "code",
   "execution_count": 71,
   "metadata": {},
   "outputs": [
    {
     "data": {
      "text/plain": [
       "array([ 931, 1428, 1769, 2500, 2935, 3276, 3885, 4115, 4869,  203])"
      ]
     },
     "execution_count": 71,
     "metadata": {},
     "output_type": "execute_result"
    }
   ],
   "source": [
    "pred"
   ]
  },
  {
   "cell_type": "code",
   "execution_count": null,
   "metadata": {},
   "outputs": [],
   "source": []
  }
 ],
 "metadata": {
  "kernelspec": {
   "display_name": "Python 2",
   "language": "python",
   "name": "python2"
  },
  "language_info": {
   "codemirror_mode": {
    "name": "ipython",
    "version": 2
   },
   "file_extension": ".py",
   "mimetype": "text/x-python",
   "name": "python",
   "nbconvert_exporter": "python",
   "pygments_lexer": "ipython2",
   "version": "2.7.15"
  }
 },
 "nbformat": 4,
 "nbformat_minor": 2
}
