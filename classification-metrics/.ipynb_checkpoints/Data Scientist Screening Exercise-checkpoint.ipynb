{
 "cells": [
  {
   "cell_type": "markdown",
   "metadata": {},
   "source": [
    "### Loading library"
   ]
  },
  {
   "cell_type": "code",
   "execution_count": 11,
   "metadata": {},
   "outputs": [],
   "source": [
    "import pandas as pd\n",
    "import numpy as np\n",
    "from __future__ import division\n",
    "import matplotlib.pyplot as plt\n",
    "from sklearn.metrics import confusion_matrix\n",
    "import matplotlib.pyplot as plt\n",
    "from sklearn.metrics import roc_curve, auc\n",
    "from sklearn.metrics import roc_auc_score"
   ]
  },
  {
   "cell_type": "markdown",
   "metadata": {},
   "source": [
    "### Read data"
   ]
  },
  {
   "cell_type": "code",
   "execution_count": 12,
   "metadata": {},
   "outputs": [],
   "source": [
    "data = pd.read_csv('model_outcome.csv')\n",
    "#data.head()\n",
    "#data.shape"
   ]
  },
  {
   "cell_type": "code",
   "execution_count": 13,
   "metadata": {},
   "outputs": [],
   "source": [
    "true_class = data['class']  # true class labels\n",
    "predicted_values1 = data['predicted_prob'] # predicted class labels\n",
    "\n",
    "def predict(X,theta):\n",
    "    z = np.dot(X.T,theta)\n",
    "    prob = 1/ (1+np.exp(-z))\n",
    "    np.argma\n",
    "    "
   ]
  },
  {
   "cell_type": "code",
   "execution_count": 14,
   "metadata": {},
   "outputs": [],
   "source": [
    "# Converting predicted values into classes using threshold\n",
    "threshold = 0.5\n",
    "predicted_class1 = np.zeros(predicted_values1.shape)\n",
    "predicted_class1[predicted_values1>threshold]=1\n",
    "pred_pos = predicted_class1[predicted_class1 == 1]\n",
    "pred_neg = predicted_class1[predicted_class1 == 0]\n",
    "#predicted_class1.shape"
   ]
  },
  {
   "cell_type": "code",
   "execution_count": 15,
   "metadata": {},
   "outputs": [],
   "source": [
    "thresholds = np.linspace(1,0.5,1000)\n",
    "\n",
    "def perf_measure(true_class, predicted_values1):\n",
    "    ROC = np.zeros((1000,2))\n",
    "    for i in range(1000):\n",
    "        t = thresholds[i]\n",
    "        #t = threshold\n",
    "        TP_t = np.logical_and( predicted_values1 > t, true_class==1 ).sum()\n",
    "        TN_t = np.logical_and( predicted_values1 <=t, true_class==0 ).sum()\n",
    "        FP_t = np.logical_and( predicted_values1 > t, true_class==0 ).sum()\n",
    "        FN_t = np.logical_and( predicted_values1 <=t, true_class==1 ).sum()\n",
    "        \n",
    "        # Specificity or true negative rate\n",
    "        TNR = TN_t/(TN_t+FP_t)\n",
    "        \n",
    "        # Precision or positive predictive value\n",
    "        PPV = TP_t/(TP_t+FP_t)\n",
    "        \n",
    "        # Negative predictive value\n",
    "        NPV = TN_t/(TN_t+FN_t)\n",
    "        \n",
    "        # False negative rate\n",
    "        FNR = FN_t/(TP_t+FN_t)\n",
    "        \n",
    "        # False discovery rate\n",
    "        FDR = FP_t/(TP_t+FP_t)\n",
    "        \n",
    "        # Overall accuracy\n",
    "        ACC = (TP_t+TN_t)/(TP_t+FP_t+FN_t+TN_t)\n",
    "        \n",
    "        # Compute false positive rate for current threshold\n",
    "        FPR_t = FP_t / float(FP_t + TN_t)\n",
    "        \n",
    "        # Sensitivity, hit rate, recall, or true positive rate\n",
    "        TPR_t = TP_t / float(TP_t + FN_t)\n",
    "        \n",
    "        ROC[i,1] = TPR_t\n",
    "        ROC[i,0] = FPR_t\n",
    "    \n",
    "    return TP_t, FN_t, FP_t , TN_t, PPV, TNR, TPR_t, FPR_t,  ACC, ROC\n",
    "\n"
   ]
  },
  {
   "cell_type": "markdown",
   "metadata": {},
   "source": [
    "### 1. Manually calculate the sensitivity and specificity of the model, using a predicted_prob threshold of greater than or equal to .5."
   ]
  },
  {
   "cell_type": "code",
   "execution_count": 16,
   "metadata": {},
   "outputs": [
    {
     "name": "stderr",
     "output_type": "stream",
     "text": [
      "/Library/Frameworks/Python.framework/Versions/2.7/lib/python2.7/site-packages/ipykernel_launcher.py:17: RuntimeWarning: invalid value encountered in long_scalars\n",
      "/Library/Frameworks/Python.framework/Versions/2.7/lib/python2.7/site-packages/ipykernel_launcher.py:26: RuntimeWarning: invalid value encountered in long_scalars\n"
     ]
    },
    {
     "name": "stdout",
     "output_type": "stream",
     "text": [
      "('sensitivity: ', 0.8170731707317073)\n",
      "('specificity: ', 0.7578740157480315)\n",
      "('accuracy: ', 0.787)\n"
     ]
    }
   ],
   "source": [
    "TP_t, FN_t, FP_t , TN_t, PPV, TNR, TPR_t, FPR_t,  ACC, ROC = perf_measure(true_class, predicted_values1 )\n",
    "print('sensitivity: ',TPR_t)\n",
    "print('specificity: ',TNR)\n",
    "print('accuracy: ', ACC)"
   ]
  },
  {
   "cell_type": "markdown",
   "metadata": {},
   "source": [
    "### 2. Manually calculate the Area Under the Receiver Operating Characteristic Curve."
   ]
  },
  {
   "cell_type": "code",
   "execution_count": 7,
   "metadata": {},
   "outputs": [
    {
     "name": "stdout",
     "output_type": "stream",
     "text": [
      "('AUC: ', 0.7874735932398693)\n"
     ]
    }
   ],
   "source": [
    "T = TP_t/(2*(TP_t + FN_t))\n",
    "U = TN_t/(2*(FP_t + TN_t))\n",
    "AUC = T + U\n",
    "print('AUC: ',AUC)"
   ]
  },
  {
   "cell_type": "markdown",
   "metadata": {},
   "source": [
    "### 3. Visualize the Receiver Operating Characterstic Curve."
   ]
  },
  {
   "cell_type": "code",
   "execution_count": 10,
   "metadata": {},
   "outputs": [
    {
     "data": {
      "text/plain": [
       "Text(0.5,1,'Receiver operating characteristic')"
      ]
     },
     "execution_count": 10,
     "metadata": {},
     "output_type": "execute_result"
    },
    {
     "data": {
      "image/png": "[encoded data removed]",
      "text/plain": [
       "<Figure size 432x288 with 1 Axes>"
      ]
     },
     "metadata": {
      "needs_background": "light"
     },
     "output_type": "display_data"
    }
   ],
   "source": [
    "plt.plot(ROC[:,0],ROC[:,1])\n",
    "plt.xlabel('False Positive Rate')\n",
    "plt.ylabel('True Positive Rate')\n",
    "plt.title('Receiver operating characteristic')"
   ]
  },
  {
   "cell_type": "markdown",
   "metadata": {},
   "source": [
    "## Validate manual results via sklearn library"
   ]
  },
  {
   "cell_type": "code",
   "execution_count": 9,
   "metadata": {},
   "outputs": [
    {
     "name": "stdout",
     "output_type": "stream",
     "text": [
      "('sensitivity: ', 0.8170731707317073)\n",
      "('precision', 0.7657142857142857)\n",
      "0.7874735932398693\n"
     ]
    },
    {
     "data": {
      "image/png": "[encoded data removed]",
      "text/plain": [
       "<Figure size 432x288 with 1 Axes>"
      ]
     },
     "metadata": {
      "needs_background": "light"
     },
     "output_type": "display_data"
    }
   ],
   "source": [
    "tn, fp, fn, tp = confusion_matrix(true_class,predicted_class1).ravel()\n",
    "specificity = tn / (tn+fp)\n",
    "precision = tp/(tp+fp)\n",
    "sensitivity = tp / float(tp + fn)\n",
    "print('sensitivity: ',sensitivity)\n",
    "print('precision',precision)\n",
    "\n",
    "fpr = dict()\n",
    "tpr = dict()\n",
    "roc_auc = dict()\n",
    "for i in range(2):\n",
    "    fpr[i], tpr[i], _ = roc_curve( true_class,predicted_class1)\n",
    "    roc_auc[i] = auc(fpr[i], tpr[i])\n",
    "\n",
    "print roc_auc_score( true_class,predicted_class1)\n",
    "plt.figure()\n",
    "plt.plot(fpr[1], tpr[1])\n",
    "\n",
    " "
   ]
  },
  {
   "cell_type": "code",
   "execution_count": null,
   "metadata": {},
   "outputs": [],
   "source": []
  },
  {
   "cell_type": "code",
   "execution_count": null,
   "metadata": {},
   "outputs": [],
   "source": []
  }
 ],
 "metadata": {
  "kernelspec": {
   "display_name": "Python 2",
   "language": "python",
   "name": "python2"
  },
  "language_info": {
   "codemirror_mode": {
    "name": "ipython",
    "version": 2
   },
   "file_extension": ".py",
   "mimetype": "text/x-python",
   "name": "python",
   "nbconvert_exporter": "python",
   "pygments_lexer": "ipython2",
   "version": "2.7.15"
  }
 },
 "nbformat": 4,
 "nbformat_minor": 2
}
