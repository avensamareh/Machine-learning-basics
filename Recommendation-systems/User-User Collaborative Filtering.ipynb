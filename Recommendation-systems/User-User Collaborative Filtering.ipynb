{
 "cells": [
  {
   "cell_type": "code",
   "execution_count": 1,
   "metadata": {},
   "outputs": [],
   "source": [
    "import pandas as pd\n",
    "import numpy as np\n",
    "import matplotlib.pyplot as plt\n",
    "import seaborn as sns"
   ]
  },
  {
   "cell_type": "code",
   "execution_count": 2,
   "metadata": {},
   "outputs": [],
   "source": [
    "movie = pd.read_excel('UUCF Assignment Spreadsheet.xls',sheet_name = 'movie-row')\n",
    "user = pd.read_excel('UUCF Assignment Spreadsheet.xls',sheet_name = 'user-row')\n"
   ]
  },
  {
   "cell_type": "code",
   "execution_count": 3,
   "metadata": {},
   "outputs": [
    {
     "data": {
      "text/plain": [
       "(100, 25)"
      ]
     },
     "execution_count": 3,
     "metadata": {},
     "output_type": "execute_result"
    }
   ],
   "source": [
    "movie.shape"
   ]
  },
  {
   "cell_type": "code",
   "execution_count": 4,
   "metadata": {},
   "outputs": [
    {
     "data": {
      "text/plain": [
       "(25, 100)"
      ]
     },
     "execution_count": 4,
     "metadata": {},
     "output_type": "execute_result"
    }
   ],
   "source": [
    "user.shape"
   ]
  },
  {
   "cell_type": "markdown",
   "metadata": {},
   "source": [
    "### Estimating correlation between users. We have the matrix containing pairwise correlation between all rows."
   ]
  },
  {
   "cell_type": "code",
   "execution_count": 5,
   "metadata": {},
   "outputs": [
    {
     "data": {
      "text/html": [
       "<div>\n",
       "<style scoped>\n",
       "    .dataframe tbody tr th:only-of-type {\n",
       "        vertical-align: middle;\n",
       "    }\n",
       "\n",
       "    .dataframe tbody tr th {\n",
       "        vertical-align: top;\n",
       "    }\n",
       "\n",
       "    .dataframe thead th {\n",
       "        text-align: right;\n",
       "    }\n",
       "</style>\n",
       "<table border=\"1\" class=\"dataframe\">\n",
       "  <thead>\n",
       "    <tr style=\"text-align: right;\">\n",
       "      <th></th>\n",
       "      <th>1648</th>\n",
       "      <th>5136</th>\n",
       "      <th>918</th>\n",
       "      <th>2824</th>\n",
       "      <th>3867</th>\n",
       "      <th>860</th>\n",
       "      <th>3712</th>\n",
       "      <th>2968</th>\n",
       "      <th>3525</th>\n",
       "      <th>4323</th>\n",
       "      <th>...</th>\n",
       "      <th>3556</th>\n",
       "      <th>5261</th>\n",
       "      <th>2492</th>\n",
       "      <th>5062</th>\n",
       "      <th>2486</th>\n",
       "      <th>4942</th>\n",
       "      <th>2267</th>\n",
       "      <th>4809</th>\n",
       "      <th>3853</th>\n",
       "      <th>2288</th>\n",
       "    </tr>\n",
       "  </thead>\n",
       "  <tbody>\n",
       "    <tr>\n",
       "      <th>1648</th>\n",
       "      <td>1.000000</td>\n",
       "      <td>0.402980</td>\n",
       "      <td>-0.142206</td>\n",
       "      <td>0.517620</td>\n",
       "      <td>0.300200</td>\n",
       "      <td>0.480537</td>\n",
       "      <td>-0.312412</td>\n",
       "      <td>0.383348</td>\n",
       "      <td>0.092775</td>\n",
       "      <td>0.098191</td>\n",
       "      <td>...</td>\n",
       "      <td>-0.191988</td>\n",
       "      <td>0.493008</td>\n",
       "      <td>0.360644</td>\n",
       "      <td>0.551089</td>\n",
       "      <td>0.002544</td>\n",
       "      <td>0.116653</td>\n",
       "      <td>-0.429183</td>\n",
       "      <td>0.394371</td>\n",
       "      <td>-0.304422</td>\n",
       "      <td>0.245048</td>\n",
       "    </tr>\n",
       "    <tr>\n",
       "      <th>5136</th>\n",
       "      <td>0.402980</td>\n",
       "      <td>1.000000</td>\n",
       "      <td>0.118979</td>\n",
       "      <td>0.057916</td>\n",
       "      <td>0.341734</td>\n",
       "      <td>0.241377</td>\n",
       "      <td>0.131398</td>\n",
       "      <td>0.206695</td>\n",
       "      <td>0.360056</td>\n",
       "      <td>0.033642</td>\n",
       "      <td>...</td>\n",
       "      <td>0.488607</td>\n",
       "      <td>0.328120</td>\n",
       "      <td>0.422236</td>\n",
       "      <td>0.226635</td>\n",
       "      <td>0.305803</td>\n",
       "      <td>0.037769</td>\n",
       "      <td>0.240728</td>\n",
       "      <td>0.411676</td>\n",
       "      <td>0.189234</td>\n",
       "      <td>0.390067</td>\n",
       "    </tr>\n",
       "    <tr>\n",
       "      <th>918</th>\n",
       "      <td>-0.142206</td>\n",
       "      <td>0.118979</td>\n",
       "      <td>1.000000</td>\n",
       "      <td>-0.317063</td>\n",
       "      <td>0.294558</td>\n",
       "      <td>0.468333</td>\n",
       "      <td>0.092037</td>\n",
       "      <td>-0.045854</td>\n",
       "      <td>0.367568</td>\n",
       "      <td>-0.035394</td>\n",
       "      <td>...</td>\n",
       "      <td>0.373226</td>\n",
       "      <td>0.470972</td>\n",
       "      <td>0.069956</td>\n",
       "      <td>-0.054762</td>\n",
       "      <td>0.133812</td>\n",
       "      <td>0.015169</td>\n",
       "      <td>-0.273096</td>\n",
       "      <td>0.082528</td>\n",
       "      <td>0.667168</td>\n",
       "      <td>0.119162</td>\n",
       "    </tr>\n",
       "    <tr>\n",
       "      <th>2824</th>\n",
       "      <td>0.517620</td>\n",
       "      <td>0.057916</td>\n",
       "      <td>-0.317063</td>\n",
       "      <td>1.000000</td>\n",
       "      <td>-0.060913</td>\n",
       "      <td>-0.008066</td>\n",
       "      <td>0.462910</td>\n",
       "      <td>0.214760</td>\n",
       "      <td>0.169907</td>\n",
       "      <td>0.119350</td>\n",
       "      <td>...</td>\n",
       "      <td>-0.201275</td>\n",
       "      <td>0.228341</td>\n",
       "      <td>0.238700</td>\n",
       "      <td>0.259660</td>\n",
       "      <td>0.247097</td>\n",
       "      <td>0.149247</td>\n",
       "      <td>-0.361466</td>\n",
       "      <td>0.474974</td>\n",
       "      <td>-0.262073</td>\n",
       "      <td>0.166999</td>\n",
       "    </tr>\n",
       "    <tr>\n",
       "      <th>3867</th>\n",
       "      <td>0.300200</td>\n",
       "      <td>0.341734</td>\n",
       "      <td>0.294558</td>\n",
       "      <td>-0.060913</td>\n",
       "      <td>1.000000</td>\n",
       "      <td>0.282497</td>\n",
       "      <td>0.400275</td>\n",
       "      <td>0.264249</td>\n",
       "      <td>0.125193</td>\n",
       "      <td>-0.333602</td>\n",
       "      <td>...</td>\n",
       "      <td>0.174085</td>\n",
       "      <td>0.297977</td>\n",
       "      <td>0.476683</td>\n",
       "      <td>0.293868</td>\n",
       "      <td>0.438992</td>\n",
       "      <td>-0.162818</td>\n",
       "      <td>-0.295966</td>\n",
       "      <td>0.054518</td>\n",
       "      <td>0.464110</td>\n",
       "      <td>0.379856</td>\n",
       "    </tr>\n",
       "  </tbody>\n",
       "</table>\n",
       "<p>5 rows × 25 columns</p>\n",
       "</div>"
      ],
      "text/plain": [
       "          1648      5136      918       2824      3867      860       3712  \\\n",
       "1648  1.000000  0.402980 -0.142206  0.517620  0.300200  0.480537 -0.312412   \n",
       "5136  0.402980  1.000000  0.118979  0.057916  0.341734  0.241377  0.131398   \n",
       "918  -0.142206  0.118979  1.000000 -0.317063  0.294558  0.468333  0.092037   \n",
       "2824  0.517620  0.057916 -0.317063  1.000000 -0.060913 -0.008066  0.462910   \n",
       "3867  0.300200  0.341734  0.294558 -0.060913  1.000000  0.282497  0.400275   \n",
       "\n",
       "          2968      3525      4323    ...         3556      5261      2492  \\\n",
       "1648  0.383348  0.092775  0.098191    ...    -0.191988  0.493008  0.360644   \n",
       "5136  0.206695  0.360056  0.033642    ...     0.488607  0.328120  0.422236   \n",
       "918  -0.045854  0.367568 -0.035394    ...     0.373226  0.470972  0.069956   \n",
       "2824  0.214760  0.169907  0.119350    ...    -0.201275  0.228341  0.238700   \n",
       "3867  0.264249  0.125193 -0.333602    ...     0.174085  0.297977  0.476683   \n",
       "\n",
       "          5062      2486      4942      2267      4809      3853      2288  \n",
       "1648  0.551089  0.002544  0.116653 -0.429183  0.394371 -0.304422  0.245048  \n",
       "5136  0.226635  0.305803  0.037769  0.240728  0.411676  0.189234  0.390067  \n",
       "918  -0.054762  0.133812  0.015169 -0.273096  0.082528  0.667168  0.119162  \n",
       "2824  0.259660  0.247097  0.149247 -0.361466  0.474974 -0.262073  0.166999  \n",
       "3867  0.293868  0.438992 -0.162818 -0.295966  0.054518  0.464110  0.379856  \n",
       "\n",
       "[5 rows x 25 columns]"
      ]
     },
     "execution_count": 5,
     "metadata": {},
     "output_type": "execute_result"
    }
   ],
   "source": [
    "user.T.corr().head()"
   ]
  },
  {
   "cell_type": "code",
   "execution_count": 6,
   "metadata": {},
   "outputs": [
    {
     "data": {
      "text/plain": [
       "<matplotlib.axes._subplots.AxesSubplot at 0x1146af910>"
      ]
     },
     "execution_count": 6,
     "metadata": {},
     "output_type": "execute_result"
    },
    {
     "data": {
      "image/png": "[encoded data removed]",
      "text/plain": [
       "<Figure size 432x288 with 2 Axes>"
      ]
     },
     "metadata": {
      "needs_background": "light"
     },
     "output_type": "display_data"
    }
   ],
   "source": [
    "cor = user.T.corr() # Complete the user-by-user correlations matrix\n",
    "sns.heatmap(cor)"
   ]
  },
  {
   "cell_type": "markdown",
   "metadata": {},
   "source": [
    "### Identify the top 5 neighbors (the users with the 5 largest, positive correlations)"
   ]
  },
  {
   "cell_type": "code",
   "execution_count": 12,
   "metadata": {},
   "outputs": [
    {
     "data": {
      "text/plain": [
       "2492    0.476683\n",
       "3853    0.464110\n",
       "2486    0.438992\n",
       "3712    0.400275\n",
       "2288    0.379856\n",
       "Name: 3867, dtype: float64"
      ]
     },
     "execution_count": 12,
     "metadata": {},
     "output_type": "execute_result"
    }
   ],
   "source": [
    "user_thirty_cor =cor.loc[3867].sort_values(ascending = False).drop(3867).head(5)\n",
    "user_thirty_cor \n",
    "\n"
   ]
  },
  {
   "cell_type": "code",
   "execution_count": 15,
   "metadata": {},
   "outputs": [
    {
     "data": {
      "text/plain": [
       "4809    0.668516\n",
       "5136    0.562449\n",
       "860     0.539066\n",
       "5062    0.525990\n",
       "3525    0.475495\n",
       "Name: 89, dtype: float64"
      ]
     },
     "execution_count": 15,
     "metadata": {},
     "output_type": "execute_result"
    }
   ],
   "source": [
    "user_eighty_cor = cor.loc[89].sort_values(ascending = False).drop(89).head(5)\n",
    "user_eighty_cor"
   ]
  },
  {
   "cell_type": "code",
   "execution_count": 34,
   "metadata": {},
   "outputs": [
    {
     "data": {
      "text/html": [
       "<div>\n",
       "<style scoped>\n",
       "    .dataframe tbody tr th:only-of-type {\n",
       "        vertical-align: middle;\n",
       "    }\n",
       "\n",
       "    .dataframe tbody tr th {\n",
       "        vertical-align: top;\n",
       "    }\n",
       "\n",
       "    .dataframe thead th {\n",
       "        text-align: right;\n",
       "    }\n",
       "</style>\n",
       "<table border=\"1\" class=\"dataframe\">\n",
       "  <thead>\n",
       "    <tr style=\"text-align: right;\">\n",
       "      <th></th>\n",
       "      <th>11: Star Wars: Episode IV - A New Hope (1977)</th>\n",
       "      <th>12: Finding Nemo (2003)</th>\n",
       "      <th>13: Forrest Gump (1994)</th>\n",
       "      <th>14: American Beauty (1999)</th>\n",
       "      <th>22: Pirates of the Caribbean: The Curse of the Black Pearl (2003)</th>\n",
       "      <th>24: Kill Bill: Vol. 1 (2003)</th>\n",
       "      <th>38: Eternal Sunshine of the Spotless Mind (2004)</th>\n",
       "      <th>63: Twelve Monkeys (a.k.a. 12 Monkeys) (1995)</th>\n",
       "      <th>77: Memento (2000)</th>\n",
       "      <th>85: Raiders of the Lost Ark (Indiana Jones and the Raiders of the Lost Ark) (1981)</th>\n",
       "      <th>...</th>\n",
       "      <th>8467: Dumb &amp; Dumber (1994)</th>\n",
       "      <th>8587: The Lion King (1994)</th>\n",
       "      <th>9331: Clear and Present Danger (1994)</th>\n",
       "      <th>9741: Unbreakable (2000)</th>\n",
       "      <th>9802: The Rock (1996)</th>\n",
       "      <th>9806: The Incredibles (2004)</th>\n",
       "      <th>10020: Beauty and the Beast (1991)</th>\n",
       "      <th>36657: X-Men (2000)</th>\n",
       "      <th>36658: X2: X-Men United (2003)</th>\n",
       "      <th>36955: True Lies (1994)</th>\n",
       "    </tr>\n",
       "  </thead>\n",
       "  <tbody>\n",
       "    <tr>\n",
       "      <th>2492</th>\n",
       "      <td>4.5</td>\n",
       "      <td>3.5</td>\n",
       "      <td>3.5</td>\n",
       "      <td>3.5</td>\n",
       "      <td>4.0</td>\n",
       "      <td>4.0</td>\n",
       "      <td>0.0</td>\n",
       "      <td>4.0</td>\n",
       "      <td>4.0</td>\n",
       "      <td>5.0</td>\n",
       "      <td>...</td>\n",
       "      <td>0.0</td>\n",
       "      <td>4.0</td>\n",
       "      <td>3.0</td>\n",
       "      <td>0.0</td>\n",
       "      <td>3.5</td>\n",
       "      <td>5.0</td>\n",
       "      <td>4.0</td>\n",
       "      <td>3.0</td>\n",
       "      <td>2.0</td>\n",
       "      <td>4.0</td>\n",
       "    </tr>\n",
       "    <tr>\n",
       "      <th>3853</th>\n",
       "      <td>0.0</td>\n",
       "      <td>0.0</td>\n",
       "      <td>3.5</td>\n",
       "      <td>0.0</td>\n",
       "      <td>0.0</td>\n",
       "      <td>5.0</td>\n",
       "      <td>5.0</td>\n",
       "      <td>4.0</td>\n",
       "      <td>4.5</td>\n",
       "      <td>4.0</td>\n",
       "      <td>...</td>\n",
       "      <td>0.0</td>\n",
       "      <td>0.0</td>\n",
       "      <td>0.0</td>\n",
       "      <td>0.0</td>\n",
       "      <td>0.0</td>\n",
       "      <td>0.0</td>\n",
       "      <td>0.0</td>\n",
       "      <td>3.0</td>\n",
       "      <td>0.0</td>\n",
       "      <td>0.0</td>\n",
       "    </tr>\n",
       "    <tr>\n",
       "      <th>2486</th>\n",
       "      <td>3.5</td>\n",
       "      <td>2.0</td>\n",
       "      <td>4.5</td>\n",
       "      <td>3.5</td>\n",
       "      <td>2.5</td>\n",
       "      <td>4.5</td>\n",
       "      <td>3.0</td>\n",
       "      <td>3.5</td>\n",
       "      <td>4.5</td>\n",
       "      <td>4.5</td>\n",
       "      <td>...</td>\n",
       "      <td>0.5</td>\n",
       "      <td>0.5</td>\n",
       "      <td>0.5</td>\n",
       "      <td>3.0</td>\n",
       "      <td>2.5</td>\n",
       "      <td>3.0</td>\n",
       "      <td>2.5</td>\n",
       "      <td>3.5</td>\n",
       "      <td>3.0</td>\n",
       "      <td>1.5</td>\n",
       "    </tr>\n",
       "    <tr>\n",
       "      <th>3712</th>\n",
       "      <td>0.0</td>\n",
       "      <td>4.5</td>\n",
       "      <td>0.0</td>\n",
       "      <td>4.5</td>\n",
       "      <td>0.0</td>\n",
       "      <td>0.0</td>\n",
       "      <td>0.0</td>\n",
       "      <td>0.0</td>\n",
       "      <td>0.0</td>\n",
       "      <td>0.0</td>\n",
       "      <td>...</td>\n",
       "      <td>4.5</td>\n",
       "      <td>0.0</td>\n",
       "      <td>0.0</td>\n",
       "      <td>0.0</td>\n",
       "      <td>4.0</td>\n",
       "      <td>4.5</td>\n",
       "      <td>0.0</td>\n",
       "      <td>4.5</td>\n",
       "      <td>4.5</td>\n",
       "      <td>4.0</td>\n",
       "    </tr>\n",
       "    <tr>\n",
       "      <th>2288</th>\n",
       "      <td>0.0</td>\n",
       "      <td>3.5</td>\n",
       "      <td>3.5</td>\n",
       "      <td>0.0</td>\n",
       "      <td>3.5</td>\n",
       "      <td>3.0</td>\n",
       "      <td>0.0</td>\n",
       "      <td>5.0</td>\n",
       "      <td>5.0</td>\n",
       "      <td>3.0</td>\n",
       "      <td>...</td>\n",
       "      <td>0.5</td>\n",
       "      <td>0.0</td>\n",
       "      <td>0.0</td>\n",
       "      <td>0.0</td>\n",
       "      <td>4.0</td>\n",
       "      <td>3.5</td>\n",
       "      <td>0.0</td>\n",
       "      <td>4.0</td>\n",
       "      <td>4.0</td>\n",
       "      <td>0.0</td>\n",
       "    </tr>\n",
       "  </tbody>\n",
       "</table>\n",
       "<p>5 rows × 100 columns</p>\n",
       "</div>"
      ],
      "text/plain": [
       "      11: Star Wars: Episode IV - A New Hope (1977)  12: Finding Nemo (2003)  \\\n",
       "2492                                            4.5                      3.5   \n",
       "3853                                            0.0                      0.0   \n",
       "2486                                            3.5                      2.0   \n",
       "3712                                            0.0                      4.5   \n",
       "2288                                            0.0                      3.5   \n",
       "\n",
       "      13: Forrest Gump (1994)  14: American Beauty (1999)  \\\n",
       "2492                      3.5                         3.5   \n",
       "3853                      3.5                         0.0   \n",
       "2486                      4.5                         3.5   \n",
       "3712                      0.0                         4.5   \n",
       "2288                      3.5                         0.0   \n",
       "\n",
       "      22: Pirates of the Caribbean: The Curse of the Black Pearl (2003)  \\\n",
       "2492                                                4.0                   \n",
       "3853                                                0.0                   \n",
       "2486                                                2.5                   \n",
       "3712                                                0.0                   \n",
       "2288                                                3.5                   \n",
       "\n",
       "      24: Kill Bill: Vol. 1 (2003)  \\\n",
       "2492                           4.0   \n",
       "3853                           5.0   \n",
       "2486                           4.5   \n",
       "3712                           0.0   \n",
       "2288                           3.0   \n",
       "\n",
       "      38: Eternal Sunshine of the Spotless Mind (2004)  \\\n",
       "2492                                               0.0   \n",
       "3853                                               5.0   \n",
       "2486                                               3.0   \n",
       "3712                                               0.0   \n",
       "2288                                               0.0   \n",
       "\n",
       "      63: Twelve Monkeys (a.k.a. 12 Monkeys) (1995)  77: Memento (2000)  \\\n",
       "2492                                            4.0                 4.0   \n",
       "3853                                            4.0                 4.5   \n",
       "2486                                            3.5                 4.5   \n",
       "3712                                            0.0                 0.0   \n",
       "2288                                            5.0                 5.0   \n",
       "\n",
       "      85: Raiders of the Lost Ark (Indiana Jones and the Raiders of the Lost Ark) (1981)  \\\n",
       "2492                                                5.0                                    \n",
       "3853                                                4.0                                    \n",
       "2486                                                4.5                                    \n",
       "3712                                                0.0                                    \n",
       "2288                                                3.0                                    \n",
       "\n",
       "               ...             8467: Dumb & Dumber (1994)  \\\n",
       "2492           ...                                    0.0   \n",
       "3853           ...                                    0.0   \n",
       "2486           ...                                    0.5   \n",
       "3712           ...                                    4.5   \n",
       "2288           ...                                    0.5   \n",
       "\n",
       "      8587: The Lion King (1994)  9331: Clear and Present Danger (1994)  \\\n",
       "2492                         4.0                                    3.0   \n",
       "3853                         0.0                                    0.0   \n",
       "2486                         0.5                                    0.5   \n",
       "3712                         0.0                                    0.0   \n",
       "2288                         0.0                                    0.0   \n",
       "\n",
       "      9741: Unbreakable (2000)  9802: The Rock (1996)  \\\n",
       "2492                       0.0                    3.5   \n",
       "3853                       0.0                    0.0   \n",
       "2486                       3.0                    2.5   \n",
       "3712                       0.0                    4.0   \n",
       "2288                       0.0                    4.0   \n",
       "\n",
       "      9806: The Incredibles (2004)  10020: Beauty and the Beast (1991)  \\\n",
       "2492                           5.0                                 4.0   \n",
       "3853                           0.0                                 0.0   \n",
       "2486                           3.0                                 2.5   \n",
       "3712                           4.5                                 0.0   \n",
       "2288                           3.5                                 0.0   \n",
       "\n",
       "      36657: X-Men (2000)  36658: X2: X-Men United (2003)  \\\n",
       "2492                  3.0                             2.0   \n",
       "3853                  3.0                             0.0   \n",
       "2486                  3.5                             3.0   \n",
       "3712                  4.5                             4.5   \n",
       "2288                  4.0                             4.0   \n",
       "\n",
       "      36955: True Lies (1994)  \n",
       "2492                      4.0  \n",
       "3853                      0.0  \n",
       "2486                      1.5  \n",
       "3712                      4.0  \n",
       "2288                      0.0  \n",
       "\n",
       "[5 rows x 100 columns]"
      ]
     },
     "execution_count": 34,
     "metadata": {},
     "output_type": "execute_result"
    }
   ],
   "source": [
    "user_thirty = user.loc[[2492, 3853, 2486, 3712, 2288],:]\n",
    "user_thirty_filled = user_thirty.fillna(0,inplace=True)\n",
    "user_thirty"
   ]
  },
  {
   "cell_type": "code",
   "execution_count": 45,
   "metadata": {},
   "outputs": [],
   "source": [
    "calc_thirty = user_thirty.multiply(user_thirty_cor, axis=0).sum()"
   ]
  },
  {
   "cell_type": "code",
   "execution_count": 47,
   "metadata": {},
   "outputs": [
    {
     "data": {
      "text/plain": [
       "11: Star Wars: Episode IV - A New Hope (1977)                        3.681545\n",
       "12: Finding Nemo (2003)                                              5.677107\n",
       "13: Forrest Gump (1994)                                              6.597736\n",
       "14: American Beauty (1999)                                           5.006097\n",
       "22: Pirates of the Caribbean: The Curse of the Black Pearl (2003)    4.333709\n",
       "dtype: float64"
      ]
     },
     "execution_count": 47,
     "metadata": {},
     "output_type": "execute_result"
    }
   ],
   "source": [
    "calc_thirty.head(5)"
   ]
  },
  {
   "cell_type": "code",
   "execution_count": 49,
   "metadata": {},
   "outputs": [
    {
     "data": {
      "text/plain": [
       "512.4348251312263"
      ]
     },
     "execution_count": 49,
     "metadata": {},
     "output_type": "execute_result"
    }
   ],
   "source": [
    "calc_thirty.sum()"
   ]
  },
  {
   "cell_type": "code",
   "execution_count": null,
   "metadata": {},
   "outputs": [],
   "source": [
    "df.astype('int')"
   ]
  }
 ],
 "metadata": {
  "kernelspec": {
   "display_name": "Python 2",
   "language": "python",
   "name": "python2"
  },
  "language_info": {
   "codemirror_mode": {
    "name": "ipython",
    "version": 2
   },
   "file_extension": ".py",
   "mimetype": "text/x-python",
   "name": "python",
   "nbconvert_exporter": "python",
   "pygments_lexer": "ipython2",
   "version": "2.7.15"
  }
 },
 "nbformat": 4,
 "nbformat_minor": 2
}
