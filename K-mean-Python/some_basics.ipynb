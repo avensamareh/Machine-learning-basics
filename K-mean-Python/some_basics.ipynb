{
 "cells": [
  {
   "cell_type": "code",
   "execution_count": 1,
   "metadata": {},
   "outputs": [],
   "source": [
    "import pandas as pd\n",
    "import numpy as np"
   ]
  },
  {
   "cell_type": "code",
   "execution_count": 2,
   "metadata": {},
   "outputs": [],
   "source": [
    "data = pd.read_csv('happy.csv')"
   ]
  },
  {
   "cell_type": "code",
   "execution_count": 3,
   "metadata": {},
   "outputs": [
    {
     "data": {
      "text/html": [
       "<div>\n",
       "<style scoped>\n",
       "    .dataframe tbody tr th:only-of-type {\n",
       "        vertical-align: middle;\n",
       "    }\n",
       "\n",
       "    .dataframe tbody tr th {\n",
       "        vertical-align: top;\n",
       "    }\n",
       "\n",
       "    .dataframe thead th {\n",
       "        text-align: right;\n",
       "    }\n",
       "</style>\n",
       "<table border=\"1\" class=\"dataframe\">\n",
       "  <thead>\n",
       "    <tr style=\"text-align: right;\">\n",
       "      <th></th>\n",
       "      <th>country</th>\n",
       "      <th>adjusted_satisfaction</th>\n",
       "      <th>avg_satisfaction</th>\n",
       "      <th>std_satisfaction</th>\n",
       "      <th>avg_income</th>\n",
       "      <th>median_income</th>\n",
       "      <th>income_inequality</th>\n",
       "      <th>region</th>\n",
       "      <th>happyScore</th>\n",
       "      <th>GDP</th>\n",
       "      <th>country.1</th>\n",
       "    </tr>\n",
       "  </thead>\n",
       "  <tbody>\n",
       "    <tr>\n",
       "      <th>0</th>\n",
       "      <td>Armenia</td>\n",
       "      <td>37.0</td>\n",
       "      <td>4.9</td>\n",
       "      <td>2.42</td>\n",
       "      <td>2096.76</td>\n",
       "      <td>1731.506667</td>\n",
       "      <td>31.445556</td>\n",
       "      <td>'Central and Eastern Europe'</td>\n",
       "      <td>4.350</td>\n",
       "      <td>0.76821</td>\n",
       "      <td>Armenia</td>\n",
       "    </tr>\n",
       "    <tr>\n",
       "      <th>1</th>\n",
       "      <td>Angola</td>\n",
       "      <td>26.0</td>\n",
       "      <td>4.3</td>\n",
       "      <td>3.19</td>\n",
       "      <td>1448.88</td>\n",
       "      <td>1044.240000</td>\n",
       "      <td>42.720000</td>\n",
       "      <td>'Sub-Saharan Africa'</td>\n",
       "      <td>4.033</td>\n",
       "      <td>0.75778</td>\n",
       "      <td>Angola</td>\n",
       "    </tr>\n",
       "    <tr>\n",
       "      <th>2</th>\n",
       "      <td>Argentina</td>\n",
       "      <td>60.0</td>\n",
       "      <td>7.1</td>\n",
       "      <td>1.91</td>\n",
       "      <td>7101.12</td>\n",
       "      <td>5109.400000</td>\n",
       "      <td>45.475556</td>\n",
       "      <td>'Latin America and Caribbean'</td>\n",
       "      <td>6.574</td>\n",
       "      <td>1.05351</td>\n",
       "      <td>Argentina</td>\n",
       "    </tr>\n",
       "    <tr>\n",
       "      <th>3</th>\n",
       "      <td>Austria</td>\n",
       "      <td>59.0</td>\n",
       "      <td>7.2</td>\n",
       "      <td>2.11</td>\n",
       "      <td>19457.04</td>\n",
       "      <td>16879.620000</td>\n",
       "      <td>30.296250</td>\n",
       "      <td>'Western Europe'</td>\n",
       "      <td>7.200</td>\n",
       "      <td>1.33723</td>\n",
       "      <td>Austria</td>\n",
       "    </tr>\n",
       "    <tr>\n",
       "      <th>4</th>\n",
       "      <td>Australia</td>\n",
       "      <td>65.0</td>\n",
       "      <td>7.6</td>\n",
       "      <td>1.80</td>\n",
       "      <td>19917.00</td>\n",
       "      <td>15846.060000</td>\n",
       "      <td>35.285000</td>\n",
       "      <td>'Australia and New Zealand'</td>\n",
       "      <td>7.284</td>\n",
       "      <td>1.33358</td>\n",
       "      <td>Australia</td>\n",
       "    </tr>\n",
       "  </tbody>\n",
       "</table>\n",
       "</div>"
      ],
      "text/plain": [
       "     country  adjusted_satisfaction  avg_satisfaction  std_satisfaction  \\\n",
       "0    Armenia                   37.0               4.9              2.42   \n",
       "1     Angola                   26.0               4.3              3.19   \n",
       "2  Argentina                   60.0               7.1              1.91   \n",
       "3    Austria                   59.0               7.2              2.11   \n",
       "4  Australia                   65.0               7.6              1.80   \n",
       "\n",
       "   avg_income  median_income  income_inequality  \\\n",
       "0     2096.76    1731.506667          31.445556   \n",
       "1     1448.88    1044.240000          42.720000   \n",
       "2     7101.12    5109.400000          45.475556   \n",
       "3    19457.04   16879.620000          30.296250   \n",
       "4    19917.00   15846.060000          35.285000   \n",
       "\n",
       "                          region  happyScore      GDP  country.1  \n",
       "0   'Central and Eastern Europe'       4.350  0.76821    Armenia  \n",
       "1           'Sub-Saharan Africa'       4.033  0.75778     Angola  \n",
       "2  'Latin America and Caribbean'       6.574  1.05351  Argentina  \n",
       "3               'Western Europe'       7.200  1.33723    Austria  \n",
       "4    'Australia and New Zealand'       7.284  1.33358  Australia  "
      ]
     },
     "execution_count": 3,
     "metadata": {},
     "output_type": "execute_result"
    }
   ],
   "source": [
    "data.head()"
   ]
  },
  {
   "cell_type": "code",
   "execution_count": 7,
   "metadata": {},
   "outputs": [
    {
     "data": {
      "text/plain": [
       "(111, 11)"
      ]
     },
     "execution_count": 7,
     "metadata": {},
     "output_type": "execute_result"
    }
   ],
   "source": [
    "data.shape"
   ]
  },
  {
   "cell_type": "code",
   "execution_count": 10,
   "metadata": {},
   "outputs": [],
   "source": [
    "happy = data['happyScore']\n",
    "income = data['avg_income']"
   ]
  },
  {
   "cell_type": "code",
   "execution_count": 14,
   "metadata": {},
   "outputs": [
    {
     "data": {
      "text/plain": [
       "7.5870000000000015"
      ]
     },
     "execution_count": 14,
     "metadata": {},
     "output_type": "execute_result"
    }
   ],
   "source": [
    "happy.max()"
   ]
  },
  {
   "cell_type": "code",
   "execution_count": 15,
   "metadata": {},
   "outputs": [
    {
     "data": {
      "text/plain": [
       "572.88"
      ]
     },
     "execution_count": 15,
     "metadata": {},
     "output_type": "execute_result"
    }
   ],
   "source": [
    "income.min()"
   ]
  },
  {
   "cell_type": "code",
   "execution_count": 18,
   "metadata": {},
   "outputs": [],
   "source": [
    "import matplotlib.pyplot as plt\n"
   ]
  },
  {
   "cell_type": "code",
   "execution_count": 22,
   "metadata": {},
   "outputs": [
    {
     "data": {
      "text/plain": [
       "Text(0.5,0,'income')"
      ]
     },
     "execution_count": 22,
     "metadata": {},
     "output_type": "execute_result"
    },
    {
     "data": {
      "image/png": "[encoded data removed]",
      "text/plain": [
       "<Figure size 432x288 with 1 Axes>"
      ]
     },
     "metadata": {
      "needs_background": "light"
     },
     "output_type": "display_data"
    }
   ],
   "source": [
    "plt.scatter(income,happy)\n",
    "plt.ylabel('happiness')\n",
    "plt.xlabel('income')"
   ]
  },
  {
   "cell_type": "code",
   "execution_count": 33,
   "metadata": {},
   "outputs": [
    {
     "name": "stderr",
     "output_type": "stream",
     "text": [
      "/Library/Frameworks/Python.framework/Versions/2.7/lib/python2.7/site-packages/ipykernel_launcher.py:4: FutureWarning: using a dict on a Series for aggregation\n",
      "is deprecated and will be removed in a future version\n",
      "  after removing the cwd from sys.path.\n"
     ]
    },
    {
     "data": {
      "text/html": [
       "<div>\n",
       "<style scoped>\n",
       "    .dataframe tbody tr th:only-of-type {\n",
       "        vertical-align: middle;\n",
       "    }\n",
       "\n",
       "    .dataframe tbody tr th {\n",
       "        vertical-align: top;\n",
       "    }\n",
       "\n",
       "    .dataframe thead th {\n",
       "        text-align: right;\n",
       "    }\n",
       "</style>\n",
       "<table border=\"1\" class=\"dataframe\">\n",
       "  <thead>\n",
       "    <tr style=\"text-align: right;\">\n",
       "      <th></th>\n",
       "      <th>avgincome</th>\n",
       "    </tr>\n",
       "  </thead>\n",
       "  <tbody>\n",
       "    <tr>\n",
       "      <th>2</th>\n",
       "      <td>7101.120</td>\n",
       "    </tr>\n",
       "    <tr>\n",
       "      <th>3</th>\n",
       "      <td>19457.040</td>\n",
       "    </tr>\n",
       "    <tr>\n",
       "      <th>4</th>\n",
       "      <td>19917.000</td>\n",
       "    </tr>\n",
       "    <tr>\n",
       "      <th>5</th>\n",
       "      <td>3381.600</td>\n",
       "    </tr>\n",
       "    <tr>\n",
       "      <th>7</th>\n",
       "      <td>17168.505</td>\n",
       "    </tr>\n",
       "  </tbody>\n",
       "</table>\n",
       "</div>"
      ],
      "text/plain": [
       "   avgincome\n",
       "2   7101.120\n",
       "3  19457.040\n",
       "4  19917.000\n",
       "5   3381.600\n",
       "7  17168.505"
      ]
     },
     "execution_count": 33,
     "metadata": {},
     "output_type": "execute_result"
    }
   ],
   "source": [
    "a = (data.where(data['happyScore']>5)\n",
    "     .dropna()\n",
    "     .groupby(level=0)['avg_income']\n",
    "     .agg({'avgincome':np.mean})).head()\n",
    "a"
   ]
  },
  {
   "cell_type": "code",
   "execution_count": 28,
   "metadata": {},
   "outputs": [],
   "source": [
    "data.sort_values('avg_income', inplace = True) #the whole data is affected"
   ]
  },
  {
   "cell_type": "code",
   "execution_count": 29,
   "metadata": {},
   "outputs": [
    {
     "data": {
      "text/html": [
       "<div>\n",
       "<style scoped>\n",
       "    .dataframe tbody tr th:only-of-type {\n",
       "        vertical-align: middle;\n",
       "    }\n",
       "\n",
       "    .dataframe tbody tr th {\n",
       "        vertical-align: top;\n",
       "    }\n",
       "\n",
       "    .dataframe thead th {\n",
       "        text-align: right;\n",
       "    }\n",
       "</style>\n",
       "<table border=\"1\" class=\"dataframe\">\n",
       "  <thead>\n",
       "    <tr style=\"text-align: right;\">\n",
       "      <th></th>\n",
       "      <th>country</th>\n",
       "      <th>adjusted_satisfaction</th>\n",
       "      <th>avg_satisfaction</th>\n",
       "      <th>std_satisfaction</th>\n",
       "      <th>avg_income</th>\n",
       "      <th>median_income</th>\n",
       "      <th>income_inequality</th>\n",
       "      <th>region</th>\n",
       "      <th>happyScore</th>\n",
       "      <th>GDP</th>\n",
       "      <th>country.1</th>\n",
       "    </tr>\n",
       "  </thead>\n",
       "  <tbody>\n",
       "    <tr>\n",
       "      <th>10</th>\n",
       "      <td>Burundi</td>\n",
       "      <td>25.0</td>\n",
       "      <td>2.9</td>\n",
       "      <td>1.96</td>\n",
       "      <td>572.88</td>\n",
       "      <td>436.92</td>\n",
       "      <td>33.360000</td>\n",
       "      <td>'Sub-Saharan Africa'</td>\n",
       "      <td>2.905</td>\n",
       "      <td>0.01530</td>\n",
       "      <td>Burundi</td>\n",
       "    </tr>\n",
       "    <tr>\n",
       "      <th>65</th>\n",
       "      <td>Madagascar</td>\n",
       "      <td>33.0</td>\n",
       "      <td>3.7</td>\n",
       "      <td>1.86</td>\n",
       "      <td>574.20</td>\n",
       "      <td>415.48</td>\n",
       "      <td>40.720000</td>\n",
       "      <td>'Sub-Saharan Africa'</td>\n",
       "      <td>3.681</td>\n",
       "      <td>0.20824</td>\n",
       "      <td>Madagascar</td>\n",
       "    </tr>\n",
       "    <tr>\n",
       "      <th>58</th>\n",
       "      <td>Liberia</td>\n",
       "      <td>37.0</td>\n",
       "      <td>4.4</td>\n",
       "      <td>2.02</td>\n",
       "      <td>653.04</td>\n",
       "      <td>528.72</td>\n",
       "      <td>36.480000</td>\n",
       "      <td>'Sub-Saharan Africa'</td>\n",
       "      <td>4.571</td>\n",
       "      <td>0.07120</td>\n",
       "      <td>Liberia</td>\n",
       "    </tr>\n",
       "    <tr>\n",
       "      <th>72</th>\n",
       "      <td>Mozambique</td>\n",
       "      <td>34.0</td>\n",
       "      <td>3.8</td>\n",
       "      <td>1.76</td>\n",
       "      <td>714.72</td>\n",
       "      <td>488.52</td>\n",
       "      <td>45.580000</td>\n",
       "      <td>'Sub-Saharan Africa'</td>\n",
       "      <td>4.971</td>\n",
       "      <td>0.08308</td>\n",
       "      <td>Mozambique</td>\n",
       "    </tr>\n",
       "    <tr>\n",
       "      <th>73</th>\n",
       "      <td>Niger</td>\n",
       "      <td>34.0</td>\n",
       "      <td>3.8</td>\n",
       "      <td>1.75</td>\n",
       "      <td>718.40</td>\n",
       "      <td>535.56</td>\n",
       "      <td>37.726667</td>\n",
       "      <td>'Sub-Saharan Africa'</td>\n",
       "      <td>3.845</td>\n",
       "      <td>0.06940</td>\n",
       "      <td>Niger</td>\n",
       "    </tr>\n",
       "  </tbody>\n",
       "</table>\n",
       "</div>"
      ],
      "text/plain": [
       "       country  adjusted_satisfaction  avg_satisfaction  std_satisfaction  \\\n",
       "10     Burundi                   25.0               2.9              1.96   \n",
       "65  Madagascar                   33.0               3.7              1.86   \n",
       "58     Liberia                   37.0               4.4              2.02   \n",
       "72  Mozambique                   34.0               3.8              1.76   \n",
       "73       Niger                   34.0               3.8              1.75   \n",
       "\n",
       "    avg_income  median_income  income_inequality                region  \\\n",
       "10      572.88         436.92          33.360000  'Sub-Saharan Africa'   \n",
       "65      574.20         415.48          40.720000  'Sub-Saharan Africa'   \n",
       "58      653.04         528.72          36.480000  'Sub-Saharan Africa'   \n",
       "72      714.72         488.52          45.580000  'Sub-Saharan Africa'   \n",
       "73      718.40         535.56          37.726667  'Sub-Saharan Africa'   \n",
       "\n",
       "    happyScore      GDP   country.1  \n",
       "10       2.905  0.01530     Burundi  \n",
       "65       3.681  0.20824  Madagascar  \n",
       "58       4.571  0.07120     Liberia  \n",
       "72       4.971  0.08308  Mozambique  \n",
       "73       3.845  0.06940       Niger  "
      ]
     },
     "execution_count": 29,
     "metadata": {},
     "output_type": "execute_result"
    }
   ],
   "source": [
    "data.head()"
   ]
  },
  {
   "cell_type": "code",
   "execution_count": 30,
   "metadata": {},
   "outputs": [],
   "source": [
    " richest  = data[data['avg_income']>50]"
   ]
  },
  {
   "cell_type": "code",
   "execution_count": 34,
   "metadata": {},
   "outputs": [
    {
     "data": {
      "text/plain": [
       "country                               Burundi\n",
       "adjusted_satisfaction                      25\n",
       "avg_satisfaction                          2.9\n",
       "std_satisfaction                         1.96\n",
       "avg_income                             572.88\n",
       "median_income                          436.92\n",
       "income_inequality                       33.36\n",
       "region                   'Sub-Saharan Africa'\n",
       "happyScore                              2.905\n",
       "GDP                                    0.0153\n",
       "country.1                             Burundi\n",
       "Name: 10, dtype: object"
      ]
     },
     "execution_count": 34,
     "metadata": {},
     "output_type": "execute_result"
    }
   ],
   "source": [
    "richest.iloc[0]"
   ]
  },
  {
   "cell_type": "code",
   "execution_count": 35,
   "metadata": {},
   "outputs": [
    {
     "data": {
      "text/plain": [
       "country                        Luxembourg\n",
       "adjusted_satisfaction                  66\n",
       "avg_satisfaction                      7.7\n",
       "std_satisfaction                     1.76\n",
       "avg_income                        26182.3\n",
       "median_income                     22240.2\n",
       "income_inequality                   31.95\n",
       "region                   'Western Europe'\n",
       "happyScore                          6.946\n",
       "GDP                               1.56391\n",
       "country.1                      Luxembourg\n",
       "Name: 61, dtype: object"
      ]
     },
     "execution_count": 35,
     "metadata": {},
     "output_type": "execute_result"
    }
   ],
   "source": [
    "richest.iloc[-1]"
   ]
  },
  {
   "cell_type": "code",
   "execution_count": 55,
   "metadata": {},
   "outputs": [
    {
     "data": {
      "text/plain": [
       "Text(572.88,2.905,'Burundi')"
      ]
     },
     "execution_count": 55,
     "metadata": {},
     "output_type": "execute_result"
    },
    {
     "data": {
      "image/png": "[encoded data removed]",
      "text/plain": [
       "<Figure size 432x288 with 1 Axes>"
      ]
     },
     "metadata": {
      "needs_background": "light"
     },
     "output_type": "display_data"
    }
   ],
   "source": [
    "for i in data.columns:\n",
    "    if  i[:1] == 'avg_income':\n",
    "        data.rename(columns={'i':'sth'}, inplace =True)\n",
    "        \n",
    "rich = data[data['avg_income']>100]\n",
    "plt.scatter(rich['avg_income'], rich['happyScore'])\n",
    "plt.text(rich.iloc[0]['avg_income'], rich.iloc[0]['happyScore'], rich.iloc[0]['country'])"
   ]
  },
  {
   "cell_type": "code",
   "execution_count": 42,
   "metadata": {},
   "outputs": [],
   "source": [
    "richest_mean = np.mean(data['avg_income'])"
   ]
  },
  {
   "cell_type": "code",
   "execution_count": 43,
   "metadata": {},
   "outputs": [
    {
     "data": {
      "text/plain": [
       "6442.75141621464"
      ]
     },
     "execution_count": 43,
     "metadata": {},
     "output_type": "execute_result"
    }
   ],
   "source": [
    "richest_mean"
   ]
  },
  {
   "cell_type": "code",
   "execution_count": 50,
   "metadata": {},
   "outputs": [
    {
     "data": {
      "text/plain": [
       "Text(26182.3,6.946,'Luxembourg')"
      ]
     },
     "execution_count": 50,
     "metadata": {},
     "output_type": "execute_result"
    },
    {
     "data": {
      "image/png": "[encoded data removed]",
      "text/plain": [
       "<Figure size 432x288 with 1 Axes>"
      ]
     },
     "metadata": {
      "needs_background": "light"
     },
     "output_type": "display_data"
    }
   ],
   "source": [
    "plt.scatter(richest['avg_income'],richest['happyScore'])\n",
    "plt.text(richest.iloc[0]['avg_income'],richest.iloc[0]['happyScore'],richest.iloc[0]['country'])\n",
    "plt.text(richest.iloc[-1]['avg_income'],richest.iloc[-1]['happyScore'],richest.iloc[-1]['country'])\n",
    "#plt.text(x,y,what you want to show)"
   ]
  },
  {
   "cell_type": "code",
   "execution_count": 60,
   "metadata": {},
   "outputs": [
    {
     "name": "stdout",
     "output_type": "stream",
     "text": [
      "Burundi\n",
      "Madagascar\n",
      "Liberia\n",
      "Mozambique\n",
      "Niger\n",
      "Sierra Leone\n",
      "Burkina Faso\n",
      "Mali\n",
      "Lesotho\n",
      "Nigeria\n",
      "Togo\n",
      "Tanzania\n",
      "Rwanda\n",
      "Zambia\n",
      "Benin\n",
      "Ethiopia\n",
      "Uganda\n",
      "Senegal\n",
      "Chad\n",
      "Bangladesh\n",
      "India\n",
      "Nepal\n",
      "Angola\n",
      "Pakistan\n",
      "Cameroon\n",
      "Laos\n",
      "Kenya\n",
      "Tajikistan\n",
      "Indonesia\n",
      "Ghana\n",
      "Zimbabwe\n",
      "Kyrgyzstan\n",
      "Cambodia\n",
      "Djibouti\n",
      "Mauritania\n",
      "Georgia\n",
      "Armenia\n",
      "Philippines\n",
      "Vietnam\n",
      "Nicaragua\n",
      "Gabon\n",
      "Sri Lanka\n",
      "Kosovo\n",
      "China\n",
      "Morocco\n",
      "Moldova\n",
      "Honduras\n",
      "Romania\n",
      "Mongolia\n",
      "Tunisia\n",
      "Azerbaijan\n",
      "El Salvador\n",
      "Botswana\n",
      "Kazakhstan\n",
      "Ecuador\n",
      "South Africa\n",
      "Bolivia\n",
      "Mauritius\n",
      "Ukraine\n",
      "Mexico\n",
      "Peru\n",
      "Dominican Republic\n",
      "Colombia\n",
      "Serbia\n",
      "Thailand\n",
      "Paraguay\n",
      "Iran\n",
      "Turkey\n",
      "Bulgaria\n",
      "Belarus\n",
      "Brazil\n",
      "Panama\n",
      "Poland\n",
      "Latvia\n",
      "Lithuania\n",
      "Costa Rica\n",
      "Hungary\n",
      "Argentina\n",
      "Malaysia\n",
      "Uruguay\n",
      "Chile\n",
      "Russia\n",
      "Croatia\n",
      "Estonia\n",
      "Slovakia\n",
      "Czech Republic\n",
      "Portugal\n",
      "Cyprus\n",
      "Israel\n",
      "Greece\n",
      "Slovenia\n",
      "Spain\n",
      "Japan\n",
      "Italy\n",
      "Ireland\n",
      "Sweden\n",
      "United Kingdom\n",
      "Belgium\n",
      "Finland\n",
      "Denmark\n",
      "France\n",
      "Netherlands\n",
      "Iceland\n",
      "Germany\n",
      "Austria\n",
      "Australia\n",
      "Canada\n",
      "Norway\n",
      "United States\n",
      "Switzerland\n",
      "Luxembourg\n"
     ]
    }
   ],
   "source": [
    "for i,j in rich.iterrows():\n",
    "    print(j['country'])"
   ]
  },
  {
   "cell_type": "code",
   "execution_count": 63,
   "metadata": {},
   "outputs": [
    {
     "data": {
      "image/png": "[encoded data removed]",
      "text/plain": [
       "<Figure size 432x288 with 1 Axes>"
      ]
     },
     "metadata": {
      "needs_background": "light"
     },
     "output_type": "display_data"
    }
   ],
   "source": [
    "plt.scatter(richest['avg_income'],richest['happyScore']) #shows for allfor i,j in richest.iterrows():\n",
    "    plt.text(j['avg_income'], j['happyScore'],j['country'])"
   ]
  },
  {
   "cell_type": "code",
   "execution_count": 64,
   "metadata": {},
   "outputs": [],
   "source": [
    "from sklearn.cluster import KMeans "
   ]
  },
  {
   "cell_type": "code",
   "execution_count": 69,
   "metadata": {},
   "outputs": [],
   "source": [
    "income_happy= np.column_stack((income, happy))"
   ]
  },
  {
   "cell_type": "code",
   "execution_count": null,
   "metadata": {},
   "outputs": [],
   "source": []
  },
  {
   "cell_type": "markdown",
   "metadata": {},
   "source": [
    "kmean = KMeans(n_clusters=3).fit(income_happy)"
   ]
  },
  {
   "cell_type": "code",
   "execution_count": 74,
   "metadata": {},
   "outputs": [],
   "source": [
    "centers = kmean.cluster_centers_"
   ]
  },
  {
   "cell_type": "code",
   "execution_count": 75,
   "metadata": {},
   "outputs": [
    {
     "data": {
      "text/plain": [
       "<matplotlib.collections.PathCollection at 0x11662e550>"
      ]
     },
     "execution_count": 75,
     "metadata": {},
     "output_type": "execute_result"
    },
    {
     "data": {
      "image/png": "[encoded data removed]",
      "text/plain": [
       "<Figure size 432x288 with 1 Axes>"
      ]
     },
     "metadata": {
      "needs_background": "light"
     },
     "output_type": "display_data"
    }
   ],
   "source": [
    "plt.scatter(income, happy)\n",
    "plt.scatter(centers[:,0],centers[:,1])"
   ]
  },
  {
   "cell_type": "code",
   "execution_count": 79,
   "metadata": {},
   "outputs": [],
   "source": [
    "from sklearn.cluster import KMeans\n",
    "happy_income = np.column_stack((income, happy))"
   ]
  },
  {
   "cell_type": "code",
   "execution_count": 80,
   "metadata": {},
   "outputs": [],
   "source": [
    "km = KMeans(n_clusters = 3).fit(happy_income)"
   ]
  },
  {
   "cell_type": "code",
   "execution_count": 81,
   "metadata": {},
   "outputs": [],
   "source": [
    "s = km.cluster_centers_"
   ]
  },
  {
   "cell_type": "code",
   "execution_count": 82,
   "metadata": {},
   "outputs": [
    {
     "data": {
      "text/plain": [
       "array([[7.57755711e+03, 5.85080769e+00],\n",
       "       [1.87593022e+04, 7.03270000e+00],\n",
       "       [2.19912121e+03, 4.75472308e+00]])"
      ]
     },
     "execution_count": 82,
     "metadata": {},
     "output_type": "execute_result"
    }
   ],
   "source": []
  },
  {
   "cell_type": "code",
   "execution_count": null,
   "metadata": {},
   "outputs": [],
   "source": [
    " "
   ]
  }
 ],
 "metadata": {
  "kernelspec": {
   "display_name": "Python 2",
   "language": "python",
   "name": "python2"
  },
  "language_info": {
   "codemirror_mode": {
    "name": "ipython",
    "version": 2
   },
   "file_extension": ".py",
   "mimetype": "text/x-python",
   "name": "python",
   "nbconvert_exporter": "python",
   "pygments_lexer": "ipython2",
   "version": "2.7.15"
  }
 },
 "nbformat": 4,
 "nbformat_minor": 2
}
