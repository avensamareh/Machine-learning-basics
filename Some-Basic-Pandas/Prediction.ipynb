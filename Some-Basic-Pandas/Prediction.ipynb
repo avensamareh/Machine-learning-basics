{
 "cells": [
  {
   "cell_type": "markdown",
   "metadata": {},
   "source": [
    "# Zume DS Takehome 2: Predict with Confidence Interval\n",
    "\n",
    "\n",
    "## instructions\n",
    "\n",
    "The task is to build a model that predicts the value of 'y' given an input of 'x'. Additionally, we need you to predict the level of uncertainty, and vizualize the confidence interval around your prediction.  \n",
    "In this folder you will find a data set consisting of x,y pairs.    \n",
    "\n",
    "### A few notes: \n",
    "1. You're free to do the analysis as you like, but explain (via markdown) your choices. \n",
    "2. Use whatever technique to create a Confidence Interval that you find appropriate. As above, explain your choice within the markdown.\n",
    "3. Have a function that retuns an answer in the format of the get_prediction_and_interval function\n",
    "4. At the end, plot the best prediction of \"y\" given \"x\" for with \"best\" prediction of \"y\" with 68%, 95%, and 99% intervals.\n",
    "\n",
    "Feel free to direct any questions to shane@zume.com and/or nick.kypreos@zumepizza.com. \n"
   ]
  },
  {
   "cell_type": "markdown",
   "metadata": {},
   "source": [
    "# Contents"
   ]
  },
  {
   "cell_type": "markdown",
   "metadata": {},
   "source": [
    "1. Introduction\n",
    "2. Libraries\n",
    "3. Read data\n",
    "4. Plot data \n",
    "5. Split data\n",
    "6. Check polynomial order\n",
    "7. Find the best model\n",
    "8. The main code"
   ]
  },
  {
   "cell_type": "markdown",
   "metadata": {},
   "source": [
    "# 1. Introduction"
   ]
  },
  {
   "cell_type": "markdown",
   "metadata": {},
   "source": [
    "Problem statement:\n",
    "\n",
    "Have a function that retuns an answer in the format of the get_prediction_and_interval function At the end, plot the best prediction of \"y\" given \"x\" for with \"best\" prediction of \"y\" with 68%, 95%, and 99% intervals.\n",
    "\n",
    "Solution:\n",
    "\n",
    "Regression problems are supervised learning problems in which the response is continuous. There are many regression algorithms that I can use. First, I chose different algorithms, and selected the one with the best performance. Then I ran my model based on the chosen algorithm. Also, the problem has one predictor \"x\", hence I checked if a straight line is able to capture the patterns in the data or it is accounting for under-fitting. Therefore, I tried fitting a linear model with different polynomial degrees given the test error and the complexity. I selected the polynomial degree that best gives doesn't overfit the model by adding increasing complexity, yet with the lowest testing error. I checked my selected algorithm and ran it for different settings of polynomial degree and select the final model.\n",
    "\n",
    "Once the final model was selected, I generated the prediction interval that shows the uncertainty in myestimates by predicting both an upper and lower bound fo 68%, 95%, and 99% intervals."
   ]
  },
  {
   "cell_type": "markdown",
   "metadata": {},
   "source": [
    "# 2. Libraries"
   ]
  },
  {
   "cell_type": "code",
   "execution_count": null,
   "metadata": {},
   "outputs": [],
   "source": []
  },
  {
   "cell_type": "code",
   "execution_count": 2,
   "metadata": {},
   "outputs": [],
   "source": [
    "import warnings\n",
    "from sklearn.exceptions import DataConversionWarning\n",
    "\n",
    "# plotting libraries\n",
    "import matplotlib.pyplot as plt \n",
    "warnings.filterwarnings(action='ignore', category=DataConversionWarning)\n",
    "\n",
    "# imports\n",
    "import numpy as np \n",
    "import pandas as pd\n",
    "import ndjson\n",
    "import seaborn as sns\n",
    "from sklearn.metrics import mean_squared_error, r2_score\n",
    "from sklearn.preprocessing import PolynomialFeatures, StandardScaler\n",
    "from sklearn.linear_model import LinearRegression, Ridge, Lasso, ElasticNet\n",
    "from sklearn.tree import DecisionTreeRegressor\n",
    "from sklearn.neighbors import KNeighborsRegressor\n",
    "from sklearn.ensemble import GradientBoostingRegressor\n",
    "from sklearn.model_selection import train_test_split, cross_val_score, KFold, GridSearchCV\n",
    "from sklearn.pipeline import Pipeline, make_pipeline\n",
    "import scipy.stats as st\n",
    "\n",
    "# allow plots to appear directly Larsn the notebook\n",
    "%matplotlib inline\n",
    "from sklearn.linear_model import LogisticRegression\n",
    "# help function for calling libraries\n",
    "%config IPcompleter.greedy = True  "
   ]
  },
  {
   "cell_type": "markdown",
   "metadata": {},
   "source": [
    "# 3. Read data"
   ]
  },
  {
   "cell_type": "markdown",
   "metadata": {},
   "source": [
    "After reading the data, I checked to see if there are any missing values, so that this code could be generalizable to other datasets. I added a forLoop for treating the missing values by mean imputation (if there are any), and if there are no missing values, I passed. Finally my function returns a panda dataframe."
   ]
  },
  {
   "cell_type": "code",
   "execution_count": 3,
   "metadata": {},
   "outputs": [],
   "source": [
    "def read_data(filename='data.ndjson'):\n",
    "    \"\"\"read in data for analysis\"\"\"\n",
    "    pass"
   ]
  },
  {
   "cell_type": "code",
   "execution_count": 4,
   "metadata": {},
   "outputs": [],
   "source": [
    "def read_data(filename):\n",
    "    \n",
    "    \"\"\" read in data for analysis\n",
    "        This function will return a pandafram from ndjson data\n",
    "        inputs: ndjson data\n",
    "        returns: pandaframe\n",
    "    \n",
    "    \"\"\"\n",
    "    \n",
    "    data_list = []\n",
    "    with open(filename) as f:         # read ndjson data\n",
    "        datastore = ndjson.load(f)\n",
    "    for i in datastore:\n",
    "        dataFinal = i.values()\n",
    "        data_list.append(dataFinal)   # convert the data files into an array\n",
    "    df = pd.DataFrame([data_list]).T  # convert the data to panda a frame\n",
    "    df[['x','y']] = pd.DataFrame(df[0].values.tolist(), index = df.index) # clean data\n",
    "    df = df.drop(columns = 0)\n",
    "    for i in df:                                                 # check for missing values\n",
    "        if ((df[i] == 0).sum())>0 or df[i].isnull().sum() > 0  :\n",
    "            df = df.replace(0,np.nan)\n",
    "            df.fillna(df.mean(), inplace = True)                 # impute missing values with mean\n",
    "        else:\n",
    "            pass\n",
    "    return df"
   ]
  },
  {
   "cell_type": "code",
   "execution_count": 5,
   "metadata": {},
   "outputs": [
    {
     "data": {
      "text/html": [
       "<div>\n",
       "<style scoped>\n",
       "    .dataframe tbody tr th:only-of-type {\n",
       "        vertical-align: middle;\n",
       "    }\n",
       "\n",
       "    .dataframe tbody tr th {\n",
       "        vertical-align: top;\n",
       "    }\n",
       "\n",
       "    .dataframe thead th {\n",
       "        text-align: right;\n",
       "    }\n",
       "</style>\n",
       "<table border=\"1\" class=\"dataframe\">\n",
       "  <thead>\n",
       "    <tr style=\"text-align: right;\">\n",
       "      <th></th>\n",
       "      <th>x</th>\n",
       "      <th>y</th>\n",
       "    </tr>\n",
       "  </thead>\n",
       "  <tbody>\n",
       "    <tr>\n",
       "      <th>0</th>\n",
       "      <td>10.584227</td>\n",
       "      <td>23.446823</td>\n",
       "    </tr>\n",
       "    <tr>\n",
       "      <th>1</th>\n",
       "      <td>14.867693</td>\n",
       "      <td>45.228094</td>\n",
       "    </tr>\n",
       "    <tr>\n",
       "      <th>2</th>\n",
       "      <td>8.118707</td>\n",
       "      <td>24.939492</td>\n",
       "    </tr>\n",
       "    <tr>\n",
       "      <th>3</th>\n",
       "      <td>13.071239</td>\n",
       "      <td>35.450344</td>\n",
       "    </tr>\n",
       "    <tr>\n",
       "      <th>4</th>\n",
       "      <td>2.306874</td>\n",
       "      <td>-1.834100</td>\n",
       "    </tr>\n",
       "  </tbody>\n",
       "</table>\n",
       "</div>"
      ],
      "text/plain": [
       "           x          y\n",
       "0  10.584227  23.446823\n",
       "1  14.867693  45.228094\n",
       "2   8.118707  24.939492\n",
       "3  13.071239  35.450344\n",
       "4   2.306874  -1.834100"
      ]
     },
     "execution_count": 5,
     "metadata": {},
     "output_type": "execute_result"
    }
   ],
   "source": [
    "df = read_data('data.ndjson')\n",
    "df.head(5)  # show the data"
   ]
  },
  {
   "cell_type": "code",
   "execution_count": 28,
   "metadata": {},
   "outputs": [
    {
     "name": "stderr",
     "output_type": "stream",
     "text": [
      "/Library/Frameworks/Python.framework/Versions/2.7/lib/python2.7/site-packages/sklearn/linear_model/logistic.py:433: FutureWarning: Default solver will be changed to 'lbfgs' in 0.22. Specify a solver to silence this warning.\n",
      "  FutureWarning)\n"
     ]
    },
    {
     "ename": "ValueError",
     "evalue": "Unknown label type: 'continuous'",
     "output_type": "error",
     "traceback": [
      "\u001b[0;31m---------------------------------------------------------------------------\u001b[0m",
      "\u001b[0;31mValueError\u001b[0m                                Traceback (most recent call last)",
      "\u001b[0;32m<ipython-input-28-22ddec766d35>\u001b[0m in \u001b[0;36m<module>\u001b[0;34m()\u001b[0m\n\u001b[1;32m     12\u001b[0m \u001b[0;34m\u001b[0m\u001b[0m\n\u001b[1;32m     13\u001b[0m \u001b[0mmodel\u001b[0m \u001b[0;34m=\u001b[0m \u001b[0mLogisticRegression\u001b[0m\u001b[0;34m(\u001b[0m\u001b[0;34m)\u001b[0m\u001b[0;34m\u001b[0m\u001b[0m\n\u001b[0;32m---> 14\u001b[0;31m \u001b[0mmodel\u001b[0m\u001b[0;34m.\u001b[0m\u001b[0mfit\u001b[0m\u001b[0;34m(\u001b[0m\u001b[0mpd\u001b[0m\u001b[0;34m.\u001b[0m\u001b[0mDataFrame\u001b[0m\u001b[0;34m(\u001b[0m\u001b[0mX_train\u001b[0m\u001b[0;34m.\u001b[0m\u001b[0mvalues\u001b[0m\u001b[0;34m)\u001b[0m\u001b[0;34m,\u001b[0m \u001b[0mpd\u001b[0m\u001b[0;34m.\u001b[0m\u001b[0mDataFrame\u001b[0m\u001b[0;34m(\u001b[0m\u001b[0my_train\u001b[0m\u001b[0;34m.\u001b[0m\u001b[0mvalues\u001b[0m\u001b[0;34m)\u001b[0m\u001b[0;34m)\u001b[0m\u001b[0;34m\u001b[0m\u001b[0m\n\u001b[0m\u001b[1;32m     15\u001b[0m \u001b[0myhat\u001b[0m \u001b[0;34m=\u001b[0m \u001b[0mmodel\u001b[0m\u001b[0;34m.\u001b[0m\u001b[0mpredict\u001b[0m\u001b[0;34m(\u001b[0m\u001b[0mpd\u001b[0m\u001b[0;34m.\u001b[0m\u001b[0mDataFrame\u001b[0m\u001b[0;34m(\u001b[0m\u001b[0mX_test\u001b[0m\u001b[0;34m.\u001b[0m\u001b[0mvalues\u001b[0m\u001b[0;34m)\u001b[0m\u001b[0;34m)\u001b[0m\u001b[0;34m\u001b[0m\u001b[0m\n",
      "\u001b[0;32m/Library/Frameworks/Python.framework/Versions/2.7/lib/python2.7/site-packages/sklearn/linear_model/logistic.pyc\u001b[0m in \u001b[0;36mfit\u001b[0;34m(self, X, y, sample_weight)\u001b[0m\n\u001b[1;32m   1284\u001b[0m         X, y = check_X_y(X, y, accept_sparse='csr', dtype=_dtype, order=\"C\",\n\u001b[1;32m   1285\u001b[0m                          accept_large_sparse=solver != 'liblinear')\n\u001b[0;32m-> 1286\u001b[0;31m         \u001b[0mcheck_classification_targets\u001b[0m\u001b[0;34m(\u001b[0m\u001b[0my\u001b[0m\u001b[0;34m)\u001b[0m\u001b[0;34m\u001b[0m\u001b[0m\n\u001b[0m\u001b[1;32m   1287\u001b[0m         \u001b[0mself\u001b[0m\u001b[0;34m.\u001b[0m\u001b[0mclasses_\u001b[0m \u001b[0;34m=\u001b[0m \u001b[0mnp\u001b[0m\u001b[0;34m.\u001b[0m\u001b[0munique\u001b[0m\u001b[0;34m(\u001b[0m\u001b[0my\u001b[0m\u001b[0;34m)\u001b[0m\u001b[0;34m\u001b[0m\u001b[0m\n\u001b[1;32m   1288\u001b[0m         \u001b[0mn_samples\u001b[0m\u001b[0;34m,\u001b[0m \u001b[0mn_features\u001b[0m \u001b[0;34m=\u001b[0m \u001b[0mX\u001b[0m\u001b[0;34m.\u001b[0m\u001b[0mshape\u001b[0m\u001b[0;34m\u001b[0m\u001b[0m\n",
      "\u001b[0;32m/Library/Frameworks/Python.framework/Versions/2.7/lib/python2.7/site-packages/sklearn/utils/multiclass.pyc\u001b[0m in \u001b[0;36mcheck_classification_targets\u001b[0;34m(y)\u001b[0m\n\u001b[1;32m    169\u001b[0m     if y_type not in ['binary', 'multiclass', 'multiclass-multioutput',\n\u001b[1;32m    170\u001b[0m                       'multilabel-indicator', 'multilabel-sequences']:\n\u001b[0;32m--> 171\u001b[0;31m         \u001b[0;32mraise\u001b[0m \u001b[0mValueError\u001b[0m\u001b[0;34m(\u001b[0m\u001b[0;34m\"Unknown label type: %r\"\u001b[0m \u001b[0;34m%\u001b[0m \u001b[0my_type\u001b[0m\u001b[0;34m)\u001b[0m\u001b[0;34m\u001b[0m\u001b[0m\n\u001b[0m\u001b[1;32m    172\u001b[0m \u001b[0;34m\u001b[0m\u001b[0m\n\u001b[1;32m    173\u001b[0m \u001b[0;34m\u001b[0m\u001b[0m\n",
      "\u001b[0;31mValueError\u001b[0m: Unknown label type: 'continuous'"
     ]
    }
   ],
   "source": [
    "\n",
    "m,n = df.shape\n",
    "msk = int(m*0.8)\n",
    "train = df.iloc[:msk,:]\n",
    "test = df.iloc[msk:,:]\n",
    "X_train = train.iloc[:,n-1]\n",
    "X_test = test.iloc[:,n-1]\n",
    "y_train = train.iloc[:,-1]\n",
    "y_test = test.iloc[:,-1]\n",
    "\n",
    "from sklearn.linear_model import LogisticRegression\n",
    "\n",
    "model = LogisticRegression()\n",
    "model.fit(pd.DataFrame(X_train.values), pd.DataFrame(y_train.values))\n",
    "yhat = model.predict(pd.DataFrame(X_test.values))"
   ]
  },
  {
   "cell_type": "code",
   "execution_count": 5,
   "metadata": {},
   "outputs": [
    {
     "data": {
      "text/html": [
       "<div>\n",
       "<style scoped>\n",
       "    .dataframe tbody tr th:only-of-type {\n",
       "        vertical-align: middle;\n",
       "    }\n",
       "\n",
       "    .dataframe tbody tr th {\n",
       "        vertical-align: top;\n",
       "    }\n",
       "\n",
       "    .dataframe thead th {\n",
       "        text-align: right;\n",
       "    }\n",
       "</style>\n",
       "<table border=\"1\" class=\"dataframe\">\n",
       "  <thead>\n",
       "    <tr style=\"text-align: right;\">\n",
       "      <th></th>\n",
       "      <th>x</th>\n",
       "      <th>y</th>\n",
       "    </tr>\n",
       "  </thead>\n",
       "  <tbody>\n",
       "    <tr>\n",
       "      <th>count</th>\n",
       "      <td>15000.000000</td>\n",
       "      <td>15000.000000</td>\n",
       "    </tr>\n",
       "    <tr>\n",
       "      <th>mean</th>\n",
       "      <td>9.872282</td>\n",
       "      <td>23.404137</td>\n",
       "    </tr>\n",
       "    <tr>\n",
       "      <th>std</th>\n",
       "      <td>4.110319</td>\n",
       "      <td>15.251282</td>\n",
       "    </tr>\n",
       "    <tr>\n",
       "      <th>min</th>\n",
       "      <td>-2.138749</td>\n",
       "      <td>-2.995863</td>\n",
       "    </tr>\n",
       "    <tr>\n",
       "      <th>25%</th>\n",
       "      <td>6.789843</td>\n",
       "      <td>10.262563</td>\n",
       "    </tr>\n",
       "    <tr>\n",
       "      <th>50%</th>\n",
       "      <td>9.728282</td>\n",
       "      <td>23.643079</td>\n",
       "    </tr>\n",
       "    <tr>\n",
       "      <th>75%</th>\n",
       "      <td>12.583935</td>\n",
       "      <td>36.382296</td>\n",
       "    </tr>\n",
       "    <tr>\n",
       "      <th>max</th>\n",
       "      <td>27.498231</td>\n",
       "      <td>49.995394</td>\n",
       "    </tr>\n",
       "  </tbody>\n",
       "</table>\n",
       "</div>"
      ],
      "text/plain": [
       "                  x             y\n",
       "count  15000.000000  15000.000000\n",
       "mean       9.872282     23.404137\n",
       "std        4.110319     15.251282\n",
       "min       -2.138749     -2.995863\n",
       "25%        6.789843     10.262563\n",
       "50%        9.728282     23.643079\n",
       "75%       12.583935     36.382296\n",
       "max       27.498231     49.995394"
      ]
     },
     "execution_count": 5,
     "metadata": {},
     "output_type": "execute_result"
    }
   ],
   "source": [
    "df.describe()  # summary of data"
   ]
  },
  {
   "cell_type": "markdown",
   "metadata": {},
   "source": [
    "# 4. Plot data"
   ]
  },
  {
   "cell_type": "markdown",
   "metadata": {},
   "source": [
    "Later to choose the right critical value for a confidence interval, and whether it is possible to express the critical value as a z-score, I check the distribution of the data. The critical value is a factor used to compute the margin of error.  According to the Central Limit Theorem when the sample size is large (15000), a z-score can be used as the critical value.  The z-value, which appears in the margin of error formula, measures the number of standard errors to be added and subtracted to achieve desired confidence level (the percentage confidence you want). Consequently, confidence levels and their corresponding z*-values are shown below.\n",
    "\n",
    "99% - 2.58\n",
    "95% -1.96\n",
    "68% - 0.994\n",
    "\n",
    "For example, when confidence scores 0.95, it means that 95% of all the samples their sample mean will be within 1.96 std of the predicted value. \n"
   ]
  },
  {
   "cell_type": "code",
   "execution_count": 15,
   "metadata": {},
   "outputs": [
    {
     "data": {
      "image/png": "[encoded data removed]",
      "text/plain": [
       "<Figure size 432x288 with 1 Axes>"
      ]
     },
     "metadata": {
      "needs_background": "light"
     },
     "output_type": "display_data"
    }
   ],
   "source": [
    "def plot(data):\n",
    "    \n",
    "    \"\"\"\n",
    "    This function is used to check if the data is normally used or not\n",
    "    Input: data\n",
    "    Returns: histogram and the scatter plot\n",
    "    \n",
    "    \"\"\"\n",
    "    m,n = df.shape \n",
    "    sns.distplot(data[list(data)[0:n-1]])\n",
    "    plt.show()\n",
    "\n",
    "plot(df)    \n",
    " "
   ]
  },
  {
   "cell_type": "markdown",
   "metadata": {},
   "source": [
    "# 5. Split data"
   ]
  },
  {
   "cell_type": "markdown",
   "metadata": {},
   "source": [
    "Split arrays or matrices into random train and test subsets in order to run the model on the training and and test it on the testing set. This action will help us see if the model is generalizable to new datasets or not"
   ]
  },
  {
   "cell_type": "code",
   "execution_count": 7,
   "metadata": {},
   "outputs": [],
   "source": [
    "def train_test(data):\n",
    "    \n",
    "    \"\"\"\n",
    "    This function is used to split the data\n",
    "    Input: data\n",
    "    Returns: training and testing data\n",
    "    \n",
    "    \"\"\"\n",
    "        \n",
    "    X = data['x']\n",
    "    y = data['y']\n",
    "    x_train, x_test, y_train, y_test = train_test_split(X, y ,test_size=0.33, random_state=0)\n",
    "    return  x_train, x_test, y_train, y_test\n",
    "    "
   ]
  },
  {
   "cell_type": "markdown",
   "metadata": {},
   "source": [
    "# 6. Check polynomial order"
   ]
  },
  {
   "cell_type": "markdown",
   "metadata": {},
   "source": [
    "Polynomial regression is very similar, but it allows for a linear combination of an input variable raised to varying degrees. We can see that a linear function (polynomial with degree 1) is not sufficient to fit the training samples. This is called underfitting. A polynomial of degree 6 approximates the true function almost perfectly. However, for higher degrees the model will overfit the training data, i.e. it learns the noise of the training data. We evaluate quantitatively overfitting / underfitting by using cross-validation. We calculate the mean squared error (MSE) on the validation set, the higher, the less likely the model generalizes correctly from the training data."
   ]
  },
  {
   "cell_type": "code",
   "execution_count": 8,
   "metadata": {},
   "outputs": [
    {
     "data": {
      "image/png": "[encoded data removed]",
      "text/plain": [
       "<Figure size 864x504 with 1 Axes>"
      ]
     },
     "metadata": {
      "needs_background": "light"
     },
     "output_type": "display_data"
    }
   ],
   "source": [
    "# Split up your data\n",
    "X_train, X_test, y_train, y_test =  train_test(df)\n",
    "\n",
    "def get_rmse(y, y_pred):\n",
    "    return np.sqrt(mean_squared_error(y, y_pred))\n",
    "\n",
    "def GeneratePolyFeature(X_train, X_test, y_train, y_test):\n",
    "    \n",
    "    \"\"\"\n",
    "    This function return the mean squared error for different polynomial order\n",
    "    Input: data\n",
    "    Returns: plot of training and testing error for different degrees\n",
    "    \n",
    "    \"\"\"\n",
    "    \n",
    "    # Create dataframe to collect the RMSE, and plot later\n",
    "    rmse_df = pd.DataFrame(columns=[\"degree\", \"rmse_train\", \"rmse_test\"])\n",
    "    for i in range(1, 10):\n",
    "        p = np.polyfit(X_train, y_train, deg=i)\n",
    "        # Get the rmse for each prediction\n",
    "        rmse_df.loc[i-1] = [i,\n",
    "                            get_rmse(y_train, np.polyval(p, X_train)),\n",
    "                            get_rmse(y_test, np.polyval(p, X_test))]\n",
    "    # Plot\n",
    "    plt.figure(figsize=(12, 7))\n",
    "    plt.plot(rmse_df.degree, rmse_df.rmse_train, label='Training Data')\n",
    "    plt.plot(rmse_df.degree, rmse_df.rmse_test, label='Test Data')\n",
    "    plt.ylabel('RMSE')\n",
    "    plt.xlabel('Polynomial Degree')\n",
    "    plt.legend()\n",
    "    plt.title('Train Vs. Test Error') \n",
    "    plt.show()\n",
    "    \n",
    "GeneratePolyFeature(X_train, X_test, y_train, y_test)    "
   ]
  },
  {
   "cell_type": "markdown",
   "metadata": {},
   "source": [
    "By looking at degree = 6 on the graph. At this point the test error does not increase as complexity increases, which we would expect from this small sample of data. At degree = 6 our RMSE is mostly stable. I don’t want to overfit the model by adding increasing complexity, so I’m comfortable using this polynomial degree to fit my final model."
   ]
  },
  {
   "cell_type": "code",
   "execution_count": 9,
   "metadata": {},
   "outputs": [],
   "source": [
    "def create_polynomial_regression_model(degree,X_train, X_test ):\n",
    "    \n",
    "    \"\"\"\n",
    "    This function generates a new feature matrix consisting of all \n",
    "    polynomial combinations of the features with degree less than or equal to the specified degree. \n",
    "    For example, if an input sample is two dimensional \n",
    "    and of the form [a, b], the degree-2 polynomial features are [1, a, b, a^2, ab, b^2].\n",
    "    Input: training and test data\n",
    "    Returns: new sets of raining and test data\n",
    "    \n",
    "    \"\"\"\n",
    "    \n",
    "    # transforms the existing features to higher degree features.\n",
    "    poly_features = PolynomialFeatures(degree=degree)\n",
    "    X_train_poly = poly_features.fit_transform(pd.DataFrame(X_train.values))\n",
    "    X_test_poly = poly_features.fit_transform(pd.DataFrame(X_test.values))\n",
    "    return X_train_poly,X_test_poly\n",
    "\n",
    "X_train_poly,X_test_poly = create_polynomial_regression_model(6,X_train, X_test )"
   ]
  },
  {
   "cell_type": "markdown",
   "metadata": {},
   "source": [
    "# 7. Find the best model"
   ]
  },
  {
   "cell_type": "markdown",
   "metadata": {},
   "source": [
    "The differing scales of the raw data may impact these algorithms. Part of a requirement for a standardised data set is to have each attribute have a mean value of zero and a standard deviation of 1. I implement standardisation using pipelines. I then use cross-validation to validate performance of algorithms in totality."
   ]
  },
  {
   "cell_type": "code",
   "execution_count": 16,
   "metadata": {},
   "outputs": [
    {
     "name": "stdout",
     "output_type": "stream",
     "text": [
      "Results when using polynomial combinations of the features with degree 6:\n",
      " \n",
      "ScaledLR: -87.726274 (3.541318)\n",
      "ScaledLASSO: -99.859054 (2.901614)\n",
      "ScaledEN: -118.264636 (2.994060)\n",
      "ScaledKNN: -103.768283 (5.123423)\n",
      "ScaledCART: -172.465090 (11.656949)\n",
      "ScaledGBM: -87.430652 (3.526489)\n",
      " \n",
      "Results when using the original data set:\n",
      " \n",
      "ScaledLR: -105.510945 (3.912982)\n",
      "ScaledLASSO: -106.507213 (3.246060)\n",
      "ScaledEN: -122.258897 (3.225993)\n",
      "ScaledKNN: -103.754166 (5.138726)\n",
      "ScaledCART: -172.448526 (11.557024)\n",
      "ScaledGBM: -87.436547 (3.519035)\n"
     ]
    }
   ],
   "source": [
    "def CompareDifferentModels(X_train,y_train):\n",
    "    \n",
    "    \"\"\"\n",
    "    This function runs based on different models and returns the\n",
    "    cross-validation to validate performance of algorithms in totality.\n",
    "    Input: Training data\n",
    "    Returns: Evaluate a score by cross-validation\n",
    "    \n",
    "    \"\"\"\n",
    "    \n",
    "    pipelines = []\n",
    "    pipelines.append(('ScaledLR', Pipeline([('Scaler', StandardScaler()),('LR',LinearRegression())])))\n",
    "    pipelines.append(('ScaledLASSO', Pipeline([('Scaler', StandardScaler()),('LASSO', Lasso())])))\n",
    "    pipelines.append(('ScaledEN', Pipeline([('Scaler', StandardScaler()),('EN', ElasticNet())])))\n",
    "    pipelines.append(('ScaledKNN', Pipeline([('Scaler', StandardScaler()),('KNN', KNeighborsRegressor())])))\n",
    "    pipelines.append(('ScaledCART', Pipeline([('Scaler', StandardScaler()),('CART', DecisionTreeRegressor())])))\n",
    "    pipelines.append(('ScaledGBM', Pipeline([('Scaler', StandardScaler()),('GBM', GradientBoostingRegressor())])))\n",
    "\n",
    "    results = []\n",
    "    names = []\n",
    "    for name, model in pipelines:\n",
    "        kfold = KFold(n_splits=10, random_state=21)\n",
    "        cv_results = cross_val_score(model, pd.DataFrame(X_train), pd.DataFrame(y_train), cv=kfold, scoring='neg_mean_squared_error')\n",
    "        results.append(cv_results)\n",
    "        names.append(name)\n",
    "        msg = \"%s: %f (%f)\" % (name, cv_results.mean(), cv_results.std())\n",
    "        print(msg)\n",
    "\n",
    "print('Results when using polynomial combinations of the features with degree 6:') \n",
    "print(' ')\n",
    "Best_model = CompareDifferentModels(X_train_poly,y_train)\n",
    "print(' ')\n",
    "print('Results when using the original data set:')\n",
    "print(' ')\n",
    "Best_model = CompareDifferentModels(X_train,y_train) "
   ]
  },
  {
   "cell_type": "markdown",
   "metadata": {},
   "source": [
    "It looks like when using polynomial of degree 6 both models behave the same, however, when using only one polynomial of degree 1, the Gradient Boosting Regressor operforms the best using a scaled version of the data. Results show that boosting seems to be very robust against overfitting.\n",
    "\n",
    "I chose Gradient Boosting Regressor to build the regression algorithm using. Though GBM is fairly robust at higher number of trees but it can still overfit at a point. Hence, this should be tuned using CV. \n",
    "\n",
    "Next: The GBM will be tested with a few n_estimators (the number of sequential trees to be modeled) using the GridSearchCV function. "
   ]
  },
  {
   "cell_type": "markdown",
   "metadata": {},
   "source": [
    "### 7.1. Test number of sequential trees to be modeled"
   ]
  },
  {
   "cell_type": "code",
   "execution_count": 17,
   "metadata": {},
   "outputs": [
    {
     "name": "stdout",
     "output_type": "stream",
     "text": [
      "-87.193271 (3.454826) with: {'n_estimators': 50}\n",
      "-87.436547 (3.519035) with: {'n_estimators': 100}\n",
      "-88.094089 (3.725101) with: {'n_estimators': 200}\n",
      "-88.694105 (3.961606) with: {'n_estimators': 300}\n",
      "-89.296048 (4.094122) with: {'n_estimators': 400}\n",
      "Best: -87.193271 using {'n_estimators': 50}\n"
     ]
    },
    {
     "data": {
      "text/plain": [
       "{'n_estimators': 50}"
      ]
     },
     "execution_count": 17,
     "metadata": {},
     "output_type": "execute_result"
    }
   ],
   "source": [
    "def GBMGridSearchCV(X_train,y_train):\n",
    "    \n",
    "    \"\"\"\n",
    "    This function return the best n_estimators\n",
    "    Input: Training data\n",
    "    Returns: The best number of trees\n",
    "    \n",
    "    \"\"\"\n",
    "    \n",
    "    scaler = StandardScaler().fit(pd.DataFrame(X_train) )\n",
    "    rescaledX = scaler.transform(pd.DataFrame(X_train))\n",
    "    param_grid = dict(n_estimators=np.array([50,100,200,300,400]))\n",
    "    model = GradientBoostingRegressor(random_state=21)\n",
    "    kfold = KFold(n_splits=10, random_state=21)\n",
    "    grid = GridSearchCV(estimator=model, param_grid=param_grid, scoring='neg_mean_squared_error', cv=kfold)\n",
    "    grid_result = grid.fit(rescaledX, pd.DataFrame(y_train))\n",
    "\n",
    "    means = grid_result.cv_results_['mean_test_score']\n",
    "    stds = grid_result.cv_results_['std_test_score']\n",
    "    params = grid_result.cv_results_['params']\n",
    "    for mean, stdev, param in zip(means, stds, params):\n",
    "        print(\"%f (%f) with: %r\" % (mean, stdev, param))\n",
    "\n",
    "    print(\"Best: %f using %s\" % (grid_result.best_score_, grid_result.best_params_))\n",
    "    best = grid_result.best_params_\n",
    "    return best\n",
    "    \n",
    "best = GBMGridSearchCV(X_train,y_train)\n",
    "best"
   ]
  },
  {
   "cell_type": "markdown",
   "metadata": {},
   "source": [
    "We can see that the best number of estimators is 50."
   ]
  },
  {
   "cell_type": "markdown",
   "metadata": {},
   "source": [
    "# 8. The main code"
   ]
  },
  {
   "cell_type": "markdown",
   "metadata": {},
   "source": [
    "Now that we know the best optimized algorithms and parameters we put them together for the final code"
   ]
  },
  {
   "cell_type": "code",
   "execution_count": 18,
   "metadata": {},
   "outputs": [],
   "source": [
    " \n",
    "from sklearn.pipeline import make_pipeline\n",
    "from sklearn.preprocessing import PolynomialFeatures\n",
    "from sklearn.linear_model import LinearRegression\n",
    " \n",
    "class LRPI:\n",
    "    \n",
    "    def __init__(self, normalize=False, n_jobs=1):\n",
    "        self.normalize = normalize\n",
    "        self.n_jobs = n_jobs\n",
    "        #self.LR = LinearRegression(normalize=self.normalize, n_jobs= self.n_jobs)\n",
    "        self.LR = GradientBoostingRegressor(n_estimators=best.values()[0])\n",
    " \n",
    "    def read_data(self,filename):\n",
    "        \n",
    "        \"\"\" \n",
    "        read in data for analysis\n",
    "        This function will return a pandafram from ndjson data\n",
    "        inputs: ndjson data\n",
    "        returns: pandaframe\n",
    "    \n",
    "        \"\"\"\n",
    "        data_list = []\n",
    "        with open(filename) as f:              # read ndjson data \n",
    "            datastore = ndjson.load(f)\n",
    "            for i in datastore:\n",
    "                dataFinal = i.values()\n",
    "                data_list.append(dataFinal)    # convert the data files into an array\n",
    "        df = pd.DataFrame([data_list]).T       # convert the data to panda a frame\n",
    "        df[['x','y']] = pd.DataFrame(df[0].values.tolist(), index = df.index)        # clean data\n",
    "        df = df.drop(columns = 0)\n",
    "    \n",
    "        for i in df:                                                 # check for missing values\n",
    "            if ((df[i] == 0).sum())>0 or df[i].isnull().sum() > 0  :\n",
    "                df = df.replace(0,np.nan)\n",
    "                df.fillna(df.mean(), inplace = True)                 # impute missing values with mean\n",
    "            else:\n",
    "                pass\n",
    "        return df \n",
    "    \n",
    "    def plot(self, data):\n",
    "        \n",
    "        \"\"\"\n",
    "        This function is used to check if the data is normally used or not\n",
    "        Input: data\n",
    "        Returns: histogram and the scatter plot\n",
    "    \n",
    "        \"\"\"\n",
    "        m,n = df.shape \n",
    "        sns.distplot(data[list(data)[0:n-1]])\n",
    "        plt.show()\n",
    "           \n",
    "    def train_test(self, data):\n",
    "             \n",
    "        \"\"\"\n",
    "        This function is used to split the data\n",
    "        Input: data\n",
    "        Returns: training and testing data\n",
    "      \n",
    "        \"\"\"\n",
    "        X = data['x']\n",
    "        y = data['y']\n",
    "        X_train, X_test, y_train, y_test = train_test_split(X, y ,test_size=0.33, random_state=0)\n",
    "        return  X_train, X_test, y_train, y_test\n",
    "    \n",
    "    def create_polynomial_regression_model(self, degree,X_train, X_test ):\n",
    "        \n",
    "        \"\"\"\n",
    "        This function generates a new feature matrix consisting of all \n",
    "        polynomial combinations of the features with degree less than or equal to the specified degree. \n",
    "        For example, if an input sample is two dimensional \n",
    "        and of the form [a, b], the degree-2 polynomial features are [1, a, b, a^2, ab, b^2].\n",
    "        Input: training and test data\n",
    "        Returns: new sets of raining and test data\n",
    "    \n",
    "        \"\"\"\n",
    "        # transforms the existing features to higher degree features.\n",
    "        poly_features = PolynomialFeatures(degree = degree)\n",
    "        X_train_poly = poly_features.fit_transform(pd.DataFrame(X_train.values))\n",
    "        X_test_poly = poly_features.fit_transform(pd.DataFrame(X_test.values))\n",
    "        return X_train_poly,X_test_poly\n",
    "        \n",
    "    def fit(self, X_train, y_train, t_value):\n",
    "        self.X_train = pd.DataFrame(X_train.values)\n",
    "        self.y_train = pd.DataFrame(y_train.values)\n",
    "        self.t_value = t_value\n",
    "        self.LR.fit(self.X_train, self.y_train)\n",
    "        X_train_fit = self.LR.predict(self.X_train)\n",
    "        self.MSE = mean_squared_error(X_train_fit ,self.y_train)\n",
    "\n",
    "    def predict(self, X_test):\n",
    "        \n",
    "        \"\"\"\n",
    "        This function generates prediction and predictions and intervals\n",
    "        Input: X_test\n",
    "        Returns: pandaFrame results and predictions in dictionary and intervals\n",
    "    \n",
    "        \"\"\"\n",
    "        \n",
    "        self.X_test = pd.DataFrame(X_test.values)\n",
    "        self.y_pred = self.LR.predict(self.X_test)\n",
    "       \n",
    "        self.X_test.loc[: ,'const_one'] =1\n",
    "        stdev = np.sqrt(self.MSE)\n",
    "        results = pd.DataFrame(self.y_pred , columns=['Pred'])\n",
    "        interval = self.t_value * stdev\n",
    "        results.loc[:,'lower'] = results['Pred'] - interval\n",
    "        results.loc[:,'upper'] = results['Pred'] + interval\n",
    "        results.loc[:,'coef'] = self.t_value\n",
    "        prediction_dictionary = results[['Pred','lower','upper','coef']].to_dict()\n",
    "        return results, prediction_dictionary, interval \n",
    "    \n",
    "    def accuracy(self, y_test):\n",
    "        \n",
    "        \"\"\"\n",
    "        This function generates accuracies\n",
    "        Input: y_test\n",
    "        Returns: mean square error, Root Mean Square Error, R^2 \n",
    "    \n",
    "        \"\"\"\n",
    "        \n",
    "        y_test = pd.DataFrame(y_test.values)\n",
    "        MSE = mean_squared_error(self.y_pred ,y_test)\n",
    " \n",
    "        # evaluating the model on test dataset\n",
    "        rmse_test = np.sqrt(mean_squared_error(y_test, self.y_pred))\n",
    "        r2_test = r2_score(y_test, self.y_pred)\n",
    "        print(\"The model performance for the test set\")\n",
    "        print(\"-------------------------------------------\")\n",
    "        print(\"RMSE of test set is {}\".format(rmse_test))\n",
    "        print(\"R2 score of test set is {}\".format(r2_test))\n",
    "        print(\"MSE score {}\".format(MSE))\n",
    "        return MSE,rmse_test,r2_test \n",
    " \n",
    "        "
   ]
  },
  {
   "cell_type": "markdown",
   "metadata": {},
   "source": [
    "### 8.1. Run the code"
   ]
  },
  {
   "cell_type": "code",
   "execution_count": 19,
   "metadata": {},
   "outputs": [
    {
     "name": "stdout",
     "output_type": "stream",
     "text": [
      "The model performance for the test set\n",
      "-------------------------------------------\n",
      "RMSE of test set is 9.19183585129\n",
      "R2 score of test set is 0.635933176854\n",
      "MSE score 84.4898463171\n"
     ]
    },
    {
     "data": {
      "image/png": "[encoded data removed]",
      "text/plain": [
       "<Figure size 432x288 with 1 Axes>"
      ]
     },
     "metadata": {
      "needs_background": "light"
     },
     "output_type": "display_data"
    },
    {
     "name": "stdout",
     "output_type": "stream",
     "text": [
      "        Pred      lower      upper   coef\n",
      "0  30.881700   7.144545  54.618854  2.576\n",
      "1  26.411040   2.673885  50.148194  2.576\n",
      "2  34.139352  10.402197  57.876506  2.576\n",
      "3  30.881700   7.144545  54.618854  2.576\n",
      "4   5.012997 -18.724157  28.750151  2.576\n",
      "5  11.026436 -12.710718  34.763590  2.576\n",
      "6  16.693308  -7.043847  40.430462  2.576\n",
      "7  36.852083  13.114928  60.589237  2.576\n",
      "8  29.343509   5.606354  53.080663  2.576\n",
      "9  16.693308  -7.043847  40.430462  2.576\n",
      "The model performance for the test set\n",
      "-------------------------------------------\n",
      "RMSE of test set is 9.19183585129\n",
      "R2 score of test set is 0.635933176854\n",
      "MSE score 84.4898463171\n"
     ]
    },
    {
     "data": {
      "image/png": "[encoded data removed]",
      "text/plain": [
       "<Figure size 432x288 with 1 Axes>"
      ]
     },
     "metadata": {
      "needs_background": "light"
     },
     "output_type": "display_data"
    },
    {
     "name": "stdout",
     "output_type": "stream",
     "text": [
      "        Pred      lower      upper  coef\n",
      "0  30.881700  12.820821  48.942578  1.96\n",
      "1  26.411040   8.350161  44.471918  1.96\n",
      "2  34.139352  16.078473  52.200230  1.96\n",
      "3  30.881700  12.820821  48.942578  1.96\n",
      "4   5.012997 -13.047881  23.073875  1.96\n",
      "5  11.026436  -7.034442  29.087314  1.96\n",
      "6  16.693308  -1.367571  34.754186  1.96\n",
      "7  36.852083  18.791204  54.912961  1.96\n",
      "8  29.343509  11.282630  47.404387  1.96\n",
      "9  16.693308  -1.367571  34.754186  1.96\n",
      "The model performance for the test set\n",
      "-------------------------------------------\n",
      "RMSE of test set is 9.19183585129\n",
      "R2 score of test set is 0.635933176854\n",
      "MSE score 84.4898463171\n"
     ]
    },
    {
     "data": {
      "image/png": "[encoded data removed]",
      "text/plain": [
       "<Figure size 432x288 with 1 Axes>"
      ]
     },
     "metadata": {
      "needs_background": "light"
     },
     "output_type": "display_data"
    },
    {
     "name": "stdout",
     "output_type": "stream",
     "text": [
      "        Pred      lower      upper   coef\n",
      "0  30.881700  21.722254  40.041145  0.994\n",
      "1  26.411040  17.251594  35.570485  0.994\n",
      "2  34.139352  24.979906  43.298797  0.994\n",
      "3  30.881700  21.722254  40.041145  0.994\n",
      "4   5.012997  -4.146448  14.172443  0.994\n",
      "5  11.026436   1.866991  20.185882  0.994\n",
      "6  16.693308   7.533862  25.852753  0.994\n",
      "7  36.852083  27.692637  46.011528  0.994\n",
      "8  29.343509  20.184063  38.502954  0.994\n",
      "9  16.693308   7.533862  25.852753  0.994\n"
     ]
    }
   ],
   "source": [
    "model = LRPI() \n",
    "df = model.read_data('data.ndjson')\n",
    "X_train, X_test, y_train, y_test  = model.train_test(df)\n",
    "xtrain_poly, xtest_poly = model.create_polynomial_regression_model(6,X_train, X_test )\n",
    "\n",
    "def get_prediction_and_interval(conf):\n",
    "    Zscore = ( np.round(st.norm.ppf(1-(1-conf)/2),3))  \n",
    "    model.fit(pd.DataFrame(xtrain_poly[:,1:]), y_train, Zscore)\n",
    "    results, stub, interval  = model.predict(pd.DataFrame(xtest_poly[:,1:]))\n",
    "    model.accuracy(y_test)\n",
    "    \n",
    "    # set-up the plot\n",
    "    plt.xlabel('X values')\n",
    "    plt.ylabel('Y values')\n",
    "    plt.title('Gradient Boosting regression and confidence limits')\n",
    " \n",
    "    # plot sample data\n",
    "    plt.plot(np.array(X_test[:100]), np.array(y_test[:100]),'bo',label='Sample observations',)\n",
    "    # plot line of best fit\n",
    "    plt.plot(np.array(X_test[:100]), np.array(results['Pred'][:100]),'*' ,label='Regression line')\n",
    "    # plot confidence limits\n",
    "    plt.plot(np.array(X_test[:100]), np.array(results['lower'][:100]),'+' ,label='Lower confidence limit ' + str(int(conf*100)) + '%')\n",
    "    plt.plot(np.array(X_test[:100]), np.array(results['upper'][:100]),'+' ,label='Upper confidence limit ' + str(int(conf*100)) + '%')\n",
    "    # configure legend\n",
    "    plt.legend(loc=0)\n",
    "    leg = plt.gca().get_legend()\n",
    "    ltext = leg.get_texts()\n",
    "    plt.setp(ltext, fontsize=10)\n",
    "    plt.errorbar(np.array(X_test[:100]), np.array(y_test[:100]), yerr=interval , color='b', fmt='o', alpha= 0.14)\n",
    " \n",
    "    # show the plot\n",
    "    plt.show()  \n",
    "    return results.head(10)\n",
    "\n",
    "print(get_prediction_and_interval(0.99))\n",
    "print(get_prediction_and_interval(0.95))\n",
    "print(get_prediction_and_interval(0.68))\n",
    "   \n",
    "\n",
    " "
   ]
  },
  {
   "cell_type": "markdown",
   "metadata": {},
   "source": [
    "In the above, I showed the results of my best model with  MSE score of 84.48, using Gradient Boosting regression. I showed the upper and lower bound for the given confidence score. I plotted  the best prediction of \"y\" given \"x\" for with \"best\" prediction of \"y\" with 68%, 95%, and 99% intervals. \n",
    "\n",
    "I calculated confidence intervals based on : Confidence interval = sample statistic +- Margin of error. Where, margin of error (ME): ME = critical value * standard error. Since the sample size is large, a z-score analysis produces the same result for the critical value. \n",
    "\n",
    "The prediction interval quantifies the uncertainty of a single point prediction. The uncertainty comes from the errors in the model itself and noise in the input data. The model is an approximation of the relationship between the input variables and the output variables. Here confidence interval can be used to quantify the uncertainty of the estimated skill of a model. \n",
    "\n",
    "Each plot shows the raw dataset as a scatter plot, the predictions for the dataset as a rlight blue, and the prediction and prediction interval as a green and orange dot and line respectively.\n",
    "\n",
    "prediction interval is an estimate of an interval in which a future observation will fall, with a certain probability. For example for a confidence level of 95%, given the best prediction of ‘y’ given ‘x’, there is a 95% likelihood that the upper and lower limits cover the true outcome. AS this level is gets smaller (68%), more the limits get tighter."
   ]
  },
  {
   "cell_type": "code",
   "execution_count": null,
   "metadata": {},
   "outputs": [],
   "source": []
  }
 ],
 "metadata": {
  "kernelspec": {
   "display_name": "Python 2",
   "language": "python",
   "name": "python2"
  },
  "language_info": {
   "codemirror_mode": {
    "name": "ipython",
    "version": 2
   },
   "file_extension": ".py",
   "mimetype": "text/x-python",
   "name": "python",
   "nbconvert_exporter": "python",
   "pygments_lexer": "ipython2",
   "version": "2.7.15"
  }
 },
 "nbformat": 4,
 "nbformat_minor": 2
}
